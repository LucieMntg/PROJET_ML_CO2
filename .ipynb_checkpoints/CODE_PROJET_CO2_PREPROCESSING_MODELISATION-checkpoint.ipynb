{
 "cells": [
  {
   "cell_type": "code",
   "execution_count": 236,
   "metadata": {
    "colab": {
     "base_uri": "https://localhost:8080/"
    },
    "id": "oXR9uJR3_lf8",
    "outputId": "88c2c7d5-7ebf-487d-c257-fa87c01896e4"
   },
   "outputs": [
    {
     "name": "stdout",
     "output_type": "stream",
     "text": [
      "Requirement already satisfied: lazypredict in c:\\users\\lucie montagne\\anaconda3\\lib\\site-packages (0.2.13)\n",
      "Requirement already satisfied: click in c:\\users\\lucie montagne\\anaconda3\\lib\\site-packages (from lazypredict) (8.1.7)\n",
      "Requirement already satisfied: scikit-learn in c:\\users\\lucie montagne\\anaconda3\\lib\\site-packages (from lazypredict) (1.5.1)\n",
      "Requirement already satisfied: pandas in c:\\users\\lucie montagne\\anaconda3\\lib\\site-packages (from lazypredict) (2.2.2)\n",
      "Requirement already satisfied: tqdm in c:\\users\\lucie montagne\\anaconda3\\lib\\site-packages (from lazypredict) (4.66.5)\n",
      "Requirement already satisfied: joblib in c:\\users\\lucie montagne\\anaconda3\\lib\\site-packages (from lazypredict) (1.4.2)\n",
      "Requirement already satisfied: lightgbm in c:\\users\\lucie montagne\\anaconda3\\lib\\site-packages (from lazypredict) (4.5.0)\n",
      "Requirement already satisfied: xgboost in c:\\users\\lucie montagne\\anaconda3\\lib\\site-packages (from lazypredict) (2.1.2)\n",
      "Requirement already satisfied: colorama in c:\\users\\lucie montagne\\anaconda3\\lib\\site-packages (from click->lazypredict) (0.4.6)\n",
      "Requirement already satisfied: numpy>=1.17.0 in c:\\users\\lucie montagne\\anaconda3\\lib\\site-packages (from lightgbm->lazypredict) (1.26.4)\n",
      "Requirement already satisfied: scipy in c:\\users\\lucie montagne\\anaconda3\\lib\\site-packages (from lightgbm->lazypredict) (1.13.1)\n",
      "Requirement already satisfied: python-dateutil>=2.8.2 in c:\\users\\lucie montagne\\anaconda3\\lib\\site-packages (from pandas->lazypredict) (2.9.0.post0)\n",
      "Requirement already satisfied: pytz>=2020.1 in c:\\users\\lucie montagne\\anaconda3\\lib\\site-packages (from pandas->lazypredict) (2024.1)\n",
      "Requirement already satisfied: tzdata>=2022.7 in c:\\users\\lucie montagne\\anaconda3\\lib\\site-packages (from pandas->lazypredict) (2023.3)\n",
      "Requirement already satisfied: threadpoolctl>=3.1.0 in c:\\users\\lucie montagne\\anaconda3\\lib\\site-packages (from scikit-learn->lazypredict) (3.5.0)\n",
      "Requirement already satisfied: six>=1.5 in c:\\users\\lucie montagne\\anaconda3\\lib\\site-packages (from python-dateutil>=2.8.2->pandas->lazypredict) (1.16.0)\n"
     ]
    }
   ],
   "source": [
    "# Installation de tous les modules nécessaires\n",
    "import numpy as np\n",
    "import pandas as pd\n",
    "import numpy as np\n",
    "import pandas as pd\n",
    "import sklearn\n",
    "import matplotlib.pyplot as plt\n",
    "import seaborn as sns\n",
    "!pip install lazypredict\n",
    "from lazypredict.Supervised import LazyRegressor\n",
    "from sklearn.model_selection import train_test_split\n",
    "from sklearn.preprocessing import StandardScaler\n",
    "from sklearn.preprocessing import LabelEncoder\n",
    "from sklearn.metrics import f1_score\n",
    "from sklearn.compose import ColumnTransformer\n",
    "from sklearn.pipeline import Pipeline\n",
    "from sklearn.preprocessing import OneHotEncoder"
   ]
  },
  {
   "cell_type": "code",
   "execution_count": 238,
   "metadata": {
    "colab": {
     "base_uri": "https://localhost:8080/",
     "height": 498
    },
    "id": "bai0jrh3_uQz",
    "outputId": "23978070-5f9c-4162-9a6d-0fffe0e06b8d"
   },
   "outputs": [
    {
     "data": {
      "text/html": [
       "<div>\n",
       "<style scoped>\n",
       "    .dataframe tbody tr th:only-of-type {\n",
       "        vertical-align: middle;\n",
       "    }\n",
       "\n",
       "    .dataframe tbody tr th {\n",
       "        vertical-align: top;\n",
       "    }\n",
       "\n",
       "    .dataframe thead th {\n",
       "        text-align: right;\n",
       "    }\n",
       "</style>\n",
       "<table border=\"1\" class=\"dataframe\">\n",
       "  <thead>\n",
       "    <tr style=\"text-align: right;\">\n",
       "      <th></th>\n",
       "      <th>Marque</th>\n",
       "      <th>Libellé modèle</th>\n",
       "      <th>Modèle</th>\n",
       "      <th>Groupe</th>\n",
       "      <th>Description Commerciale</th>\n",
       "      <th>Energie</th>\n",
       "      <th>Carrosserie</th>\n",
       "      <th>Cylindrée</th>\n",
       "      <th>Gamme</th>\n",
       "      <th>Puissance fiscale</th>\n",
       "      <th>...</th>\n",
       "      <th>Essai CO2 type 1</th>\n",
       "      <th>Essai HC</th>\n",
       "      <th>Essai Nox</th>\n",
       "      <th>Essai HCNox</th>\n",
       "      <th>Essai particules</th>\n",
       "      <th>Masse OM Min</th>\n",
       "      <th>Masse OM Max</th>\n",
       "      <th>Bonus-Malus</th>\n",
       "      <th>Barème Bonus-Malus</th>\n",
       "      <th>Prix véhicule</th>\n",
       "    </tr>\n",
       "  </thead>\n",
       "  <tbody>\n",
       "    <tr>\n",
       "      <th>0</th>\n",
       "      <td>RENAULT</td>\n",
       "      <td>KANGOO</td>\n",
       "      <td>KANGOO</td>\n",
       "      <td>RENAULT</td>\n",
       "      <td>KANGOO (130ch)</td>\n",
       "      <td>ESSENCE</td>\n",
       "      <td>COMBISPACE</td>\n",
       "      <td>1332</td>\n",
       "      <td>INFERIEURE</td>\n",
       "      <td>7</td>\n",
       "      <td>...</td>\n",
       "      <td>0,234</td>\n",
       "      <td>0,012</td>\n",
       "      <td>0,022</td>\n",
       "      <td>NaN</td>\n",
       "      <td>0,001</td>\n",
       "      <td>1594</td>\n",
       "      <td>1594</td>\n",
       "      <td>Malus</td>\n",
       "      <td>1901.00</td>\n",
       "      <td>31000</td>\n",
       "    </tr>\n",
       "    <tr>\n",
       "      <th>1</th>\n",
       "      <td>MAZDA</td>\n",
       "      <td>MX-30</td>\n",
       "      <td>MX-30</td>\n",
       "      <td>AUTRES</td>\n",
       "      <td>MX-30 e-SKYACTIV (145ch)</td>\n",
       "      <td>ELECTRIC</td>\n",
       "      <td>TS TERRAINS/CHEMINS</td>\n",
       "      <td>0</td>\n",
       "      <td>INFERIEURE</td>\n",
       "      <td>6</td>\n",
       "      <td>...</td>\n",
       "      <td>NaN</td>\n",
       "      <td>NaN</td>\n",
       "      <td>NaN</td>\n",
       "      <td>NaN</td>\n",
       "      <td>NaN</td>\n",
       "      <td>1720</td>\n",
       "      <td>1720</td>\n",
       "      <td>Bonus 6000</td>\n",
       "      <td>-6000.00</td>\n",
       "      <td>38510</td>\n",
       "    </tr>\n",
       "    <tr>\n",
       "      <th>2</th>\n",
       "      <td>B.M.W.</td>\n",
       "      <td>SERIE 2</td>\n",
       "      <td>218</td>\n",
       "      <td>AUTRES</td>\n",
       "      <td>218i Active Tourer</td>\n",
       "      <td>ESSENCE</td>\n",
       "      <td>MONOSPACE COMPACT</td>\n",
       "      <td>1499</td>\n",
       "      <td>MOYENNE INFERIEURE</td>\n",
       "      <td>7</td>\n",
       "      <td>...</td>\n",
       "      <td>0,204</td>\n",
       "      <td>0,007</td>\n",
       "      <td>0,009</td>\n",
       "      <td>NaN</td>\n",
       "      <td>NaN</td>\n",
       "      <td>1545</td>\n",
       "      <td>1545</td>\n",
       "      <td>Malus</td>\n",
       "      <td>400.00</td>\n",
       "      <td>36688</td>\n",
       "    </tr>\n",
       "    <tr>\n",
       "      <th>3</th>\n",
       "      <td>SKODA</td>\n",
       "      <td>OCTAVIA</td>\n",
       "      <td>OCTAVIA</td>\n",
       "      <td>VGF</td>\n",
       "      <td>OCTAVIA Berline 2.0 TDI (150ch) DSG7</td>\n",
       "      <td>GAZOLE</td>\n",
       "      <td>BERLINE</td>\n",
       "      <td>1968</td>\n",
       "      <td>MOYENNE SUPERIEURE</td>\n",
       "      <td>8</td>\n",
       "      <td>...</td>\n",
       "      <td>0,026</td>\n",
       "      <td>NaN</td>\n",
       "      <td>0,028</td>\n",
       "      <td>0,037</td>\n",
       "      <td>NaN</td>\n",
       "      <td>1461</td>\n",
       "      <td>1461</td>\n",
       "      <td>Neutre 0</td>\n",
       "      <td>NaN</td>\n",
       "      <td>35218</td>\n",
       "    </tr>\n",
       "    <tr>\n",
       "      <th>4</th>\n",
       "      <td>JEEP</td>\n",
       "      <td>COMPASS</td>\n",
       "      <td>COMPASS</td>\n",
       "      <td>STELLANTIS</td>\n",
       "      <td>1.3 Turbo T4 (240ch) BVA6 4xe Upland / Trailha...</td>\n",
       "      <td>ELEC+ESSENC HR</td>\n",
       "      <td>TS TERRAINS/CHEMINS</td>\n",
       "      <td>1332</td>\n",
       "      <td>MOYENNE SUPERIEURE</td>\n",
       "      <td>10</td>\n",
       "      <td>...</td>\n",
       "      <td>0,326</td>\n",
       "      <td>0,033</td>\n",
       "      <td>0,019</td>\n",
       "      <td>NaN</td>\n",
       "      <td>NaN</td>\n",
       "      <td>1935</td>\n",
       "      <td>1935</td>\n",
       "      <td>Neutre 0</td>\n",
       "      <td>NaN</td>\n",
       "      <td>50100</td>\n",
       "    </tr>\n",
       "  </tbody>\n",
       "</table>\n",
       "<p>5 rows × 52 columns</p>\n",
       "</div>"
      ],
      "text/plain": [
       "    Marque Libellé modèle   Modèle      Groupe  \\\n",
       "0  RENAULT         KANGOO   KANGOO     RENAULT   \n",
       "1    MAZDA          MX-30    MX-30      AUTRES   \n",
       "2   B.M.W.        SERIE 2      218      AUTRES   \n",
       "3    SKODA        OCTAVIA  OCTAVIA         VGF   \n",
       "4     JEEP        COMPASS  COMPASS  STELLANTIS   \n",
       "\n",
       "                             Description Commerciale         Energie  \\\n",
       "0                                     KANGOO (130ch)         ESSENCE   \n",
       "1                           MX-30 e-SKYACTIV (145ch)        ELECTRIC   \n",
       "2                                 218i Active Tourer         ESSENCE   \n",
       "3               OCTAVIA Berline 2.0 TDI (150ch) DSG7          GAZOLE   \n",
       "4  1.3 Turbo T4 (240ch) BVA6 4xe Upland / Trailha...  ELEC+ESSENC HR   \n",
       "\n",
       "           Carrosserie  Cylindrée               Gamme  Puissance fiscale  ...  \\\n",
       "0           COMBISPACE       1332          INFERIEURE                  7  ...   \n",
       "1  TS TERRAINS/CHEMINS          0          INFERIEURE                  6  ...   \n",
       "2    MONOSPACE COMPACT       1499  MOYENNE INFERIEURE                  7  ...   \n",
       "3              BERLINE       1968  MOYENNE SUPERIEURE                  8  ...   \n",
       "4  TS TERRAINS/CHEMINS       1332  MOYENNE SUPERIEURE                 10  ...   \n",
       "\n",
       "  Essai CO2 type 1 Essai HC  Essai Nox Essai HCNox Essai particules  \\\n",
       "0            0,234    0,012      0,022         NaN            0,001   \n",
       "1              NaN      NaN        NaN         NaN              NaN   \n",
       "2            0,204    0,007      0,009         NaN              NaN   \n",
       "3            0,026      NaN      0,028       0,037              NaN   \n",
       "4            0,326    0,033      0,019         NaN              NaN   \n",
       "\n",
       "   Masse OM Min Masse OM Max Bonus-Malus Barème Bonus-Malus Prix véhicule  \n",
       "0          1594         1594       Malus            1901.00         31000  \n",
       "1          1720         1720  Bonus 6000           -6000.00         38510  \n",
       "2          1545         1545       Malus             400.00         36688  \n",
       "3          1461         1461    Neutre 0                NaN         35218  \n",
       "4          1935         1935    Neutre 0                NaN         50100  \n",
       "\n",
       "[5 rows x 52 columns]"
      ]
     },
     "execution_count": 238,
     "metadata": {},
     "output_type": "execute_result"
    }
   ],
   "source": [
    "# Chargement et affichage du data frame\n",
    "df = pd.read_csv(r'\\Users\\Lucie Montagne\\Documents\\DATASCIENTEST\\PROJET\\ADEME-CarLabelling-2023-local.csv', encoding='utf-8', sep=';')\n",
    "df.head()"
   ]
  },
  {
   "cell_type": "markdown",
   "metadata": {
    "id": "V6AOX7nx_qvy"
   },
   "source": [
    "# I. Features Engineering"
   ]
  },
  {
   "cell_type": "code",
   "execution_count": 240,
   "metadata": {
    "id": "zANQqqd-ppT4"
   },
   "outputs": [],
   "source": [
    "# Renommage de certaines colonnes\n",
    "df = df.rename(columns={'CO2 vitesse mixte Max': 'CO2_vitesse_mixte_Max'})\n",
    "df = df.rename(columns={'Puissance fiscale': 'Puissance_fiscale'})\n",
    "df = df.rename(columns={'Masse OM Max': 'Masse_OM_Max'})\n",
    "df = df.rename(columns={'Type de boite': 'Type_de_boite'})"
   ]
  },
  {
   "cell_type": "code",
   "execution_count": 242,
   "metadata": {
    "id": "gvZm3F11A9az"
   },
   "outputs": [],
   "source": [
    "# Sélection des variables intéressantes pour notre problématique\n",
    "df = df[['Energie', 'Carrosserie', 'Puissance_fiscale', 'Type_de_boite', 'CO2_vitesse_mixte_Max', 'Masse_OM_Max']]"
   ]
  },
  {
   "cell_type": "code",
   "execution_count": 244,
   "metadata": {
    "id": "CTxTdNKtDzkt"
   },
   "outputs": [],
   "source": [
    "# Suppression des lignes concernant les véhicules électriques (non concernés par la problématique)\n",
    "df = df[df['Energie'] != 'ELECTRIC']"
   ]
  },
  {
   "cell_type": "code",
   "execution_count": 246,
   "metadata": {
    "colab": {
     "base_uri": "https://localhost:8080/"
    },
    "id": "RQOyFOIBGP9C",
    "outputId": "7dd2792b-d511-4ef3-c635-16460cb07592"
   },
   "outputs": [
    {
     "data": {
      "text/plain": [
       "array(['ESSENCE', 'GAZOLE', 'ELEC+ESSENC HR', 'GAZ+ELEC HNR',\n",
       "       'ESS+ELEC HNR', 'SUPERETHANOL', 'ESS+G.P.L.', 'ELEC+GAZOLE HR'],\n",
       "      dtype=object)"
      ]
     },
     "execution_count": 246,
     "metadata": {},
     "output_type": "execute_result"
    }
   ],
   "source": [
    "# Vérification de la prise en compte\n",
    "df['Energie'].unique()"
   ]
  },
  {
   "cell_type": "code",
   "execution_count": 248,
   "metadata": {
    "colab": {
     "base_uri": "https://localhost:8080/"
    },
    "id": "oWR1px2y0ka1",
    "outputId": "24d7491c-b0d5-46b6-b742-803fa210fdbc"
   },
   "outputs": [
    {
     "name": "stdout",
     "output_type": "stream",
     "text": [
      "Nouvelle dimension du jeu de données : (3470, 6)\n"
     ]
    }
   ],
   "source": [
    "# Affichage de la nouvelle dimension du jeu de données\n",
    "print(\"Nouvelle dimension du jeu de données :\", df.shape)"
   ]
  },
  {
   "cell_type": "markdown",
   "metadata": {
    "id": "ClJxj2CKzDXC"
   },
   "source": [
    "# II. Pré-processing"
   ]
  },
  {
   "cell_type": "code",
   "execution_count": 250,
   "metadata": {
    "colab": {
     "base_uri": "https://localhost:8080/"
    },
    "id": "HjfUg_hPGwgC",
    "outputId": "5f38510d-1c31-4b7b-9056-5bc3c3a7c659"
   },
   "outputs": [
    {
     "name": "stdout",
     "output_type": "stream",
     "text": [
      "<class 'pandas.core.frame.DataFrame'>\n",
      "Index: 3470 entries, 0 to 3603\n",
      "Data columns (total 6 columns):\n",
      " #   Column                 Non-Null Count  Dtype \n",
      "---  ------                 --------------  ----- \n",
      " 0   Energie                3470 non-null   object\n",
      " 1   Carrosserie            3470 non-null   object\n",
      " 2   Puissance_fiscale      3470 non-null   int64 \n",
      " 3   Type_de_boite          3470 non-null   object\n",
      " 4   CO2_vitesse_mixte_Max  3470 non-null   object\n",
      " 5   Masse_OM_Max           3470 non-null   int64 \n",
      "dtypes: int64(2), object(4)\n",
      "memory usage: 189.8+ KB\n"
     ]
    }
   ],
   "source": [
    "# Rappel du type des variables\n",
    "df.info()"
   ]
  },
  {
   "cell_type": "code",
   "execution_count": 252,
   "metadata": {
    "id": "gXu1dVxFHF9G"
   },
   "outputs": [],
   "source": [
    "# Changement du type de la variable 'CO2 vitesse mixte Max'\n",
    "df['CO2_vitesse_mixte_Max'] = df['CO2_vitesse_mixte_Max'].astype(str).str.replace(',', '.').astype(float)"
   ]
  },
  {
   "cell_type": "code",
   "execution_count": 254,
   "metadata": {
    "colab": {
     "base_uri": "https://localhost:8080/"
    },
    "id": "DYDdf8KTHtCF",
    "outputId": "638237af-b101-4a68-cf67-61900ce8d175"
   },
   "outputs": [
    {
     "name": "stdout",
     "output_type": "stream",
     "text": [
      "<class 'pandas.core.frame.DataFrame'>\n",
      "Index: 3470 entries, 0 to 3603\n",
      "Data columns (total 6 columns):\n",
      " #   Column                 Non-Null Count  Dtype  \n",
      "---  ------                 --------------  -----  \n",
      " 0   Energie                3470 non-null   object \n",
      " 1   Carrosserie            3470 non-null   object \n",
      " 2   Puissance_fiscale      3470 non-null   int64  \n",
      " 3   Type_de_boite          3470 non-null   object \n",
      " 4   CO2_vitesse_mixte_Max  3470 non-null   float64\n",
      " 5   Masse_OM_Max           3470 non-null   int64  \n",
      "dtypes: float64(1), int64(2), object(3)\n",
      "memory usage: 189.8+ KB\n"
     ]
    }
   ],
   "source": [
    "# Vérification de la prise en compte\n",
    "df.info()"
   ]
  },
  {
   "cell_type": "code",
   "execution_count": 256,
   "metadata": {
    "colab": {
     "base_uri": "https://localhost:8080/"
    },
    "id": "6bFvH8PaPhag",
    "outputId": "2c5dfa7b-16bf-4cb0-c012-6de38e7654dd"
   },
   "outputs": [
    {
     "name": "stdout",
     "output_type": "stream",
     "text": [
      "Le nombre de doublons est de : 2810\n"
     ]
    }
   ],
   "source": [
    "# Détection des doublons\n",
    "duplicate = df.duplicated().sum()\n",
    "print('Le nombre de doublons est de :', duplicate) #le nombre de doublons est de 2810"
   ]
  },
  {
   "cell_type": "code",
   "execution_count": 262,
   "metadata": {
    "id": "CIQVzLlwP-QQ"
   },
   "outputs": [],
   "source": [
    "# Suppression des doublons\n",
    "df = df.drop_duplicates(keep='first')"
   ]
  },
  {
   "cell_type": "code",
   "execution_count": 264,
   "metadata": {
    "colab": {
     "base_uri": "https://localhost:8080/"
    },
    "id": "X5vQkaQEQ6ts",
    "outputId": "67e4dfd1-2fbb-4025-975c-a172295f491f"
   },
   "outputs": [
    {
     "name": "stdout",
     "output_type": "stream",
     "text": [
      "Le nombre de doublons est de : 0\n"
     ]
    }
   ],
   "source": [
    "# Vérification de la prise en compte\n",
    "duplicate = df.duplicated().sum()\n",
    "print('Le nombre de doublons est de :', duplicate)"
   ]
  },
  {
   "cell_type": "code",
   "execution_count": 266,
   "metadata": {
    "id": "w1_LgHniH4pb"
   },
   "outputs": [],
   "source": [
    "# Séparation du jeu de données en 1 jeu d'entrainement et 1 jeu de test\n",
    "feats = df.drop('CO2_vitesse_mixte_Max', axis=1)\n",
    "target = df['CO2_vitesse_mixte_Max']\n",
    "\n",
    "X_train, X_test, y_train, y_test = train_test_split(feats, target, test_size=0.20, random_state=42) #le jeu étant petit, nous devons avoir un entrainement élevé"
   ]
  },
  {
   "cell_type": "code",
   "execution_count": 282,
   "metadata": {},
   "outputs": [
    {
     "data": {
      "text/plain": [
       "['X_train']"
      ]
     },
     "execution_count": 282,
     "metadata": {},
     "output_type": "execute_result"
    }
   ],
   "source": [
    "import joblib\n",
    "joblib.dump(X_train, 'X_train')"
   ]
  },
  {
   "cell_type": "code",
   "execution_count": 268,
   "metadata": {
    "colab": {
     "base_uri": "https://localhost:8080/",
     "height": 272
    },
    "id": "cWr2maHCJNo4",
    "outputId": "5392f9e7-5631-4177-d911-c728204cf9a7"
   },
   "outputs": [
    {
     "data": {
      "text/plain": [
       "Energie                  0\n",
       "Carrosserie              0\n",
       "Puissance_fiscale        0\n",
       "Type_de_boite            0\n",
       "CO2_vitesse_mixte_Max    0\n",
       "Masse_OM_Max             0\n",
       "dtype: int64"
      ]
     },
     "execution_count": 268,
     "metadata": {},
     "output_type": "execute_result"
    }
   ],
   "source": [
    "# Traitement des valeurs manquantes\n",
    "df.isna().sum()"
   ]
  },
  {
   "cell_type": "code",
   "execution_count": 270,
   "metadata": {
    "id": "Pg8e6Sf5nvVY"
   },
   "outputs": [],
   "source": [
    "# Attribution des colonnes numériques\n",
    "num_train = X_train[['Puissance_fiscale', 'Masse_OM_Max']]\n",
    "num_test = X_test[['Puissance_fiscale', 'Masse_OM_Max']]\n",
    "\n",
    "# Attribution des colonnes catégorielles\n",
    "cat_train = X_train[['Energie', 'Carrosserie', 'Type_de_boite']]\n",
    "cat_test = X_test[['Energie', 'Carrosserie', 'Type_de_boite']]"
   ]
  },
  {
   "cell_type": "code",
   "execution_count": 272,
   "metadata": {
    "colab": {
     "base_uri": "https://localhost:8080/"
    },
    "id": "1Wrd11aNnF1R",
    "outputId": "835ac2b6-0a67-42b5-d2e7-b90d76cc6ddb"
   },
   "outputs": [
    {
     "name": "stdout",
     "output_type": "stream",
     "text": [
      "Dimension du jeu d'entrainement : (528, 18)\n",
      "Dimension du jeu de test : (132, 18)\n"
     ]
    }
   ],
   "source": [
    "# Encodage des variables catégorielles\n",
    "from sklearn.preprocessing import OneHotEncoder\n",
    "import pandas as pd\n",
    "\n",
    "# utilisation du OneHotEncoder sans sparsité\n",
    "oneh = OneHotEncoder(drop='first', sparse_output=False, handle_unknown='ignore')\n",
    "\n",
    "# identification des colonnes catégorielles\n",
    "cat = ['Energie', 'Carrosserie', 'Type_de_boite']\n",
    "\n",
    "# encodage sur le jeu d'entraînement\n",
    "cat_train_encoded = pd.DataFrame(oneh.fit_transform(X_train[cat]), columns=oneh.get_feature_names_out(cat), index=X_train.index)\n",
    "\n",
    "# encodage sur le jeu de test\n",
    "cat_test_encoded = pd.DataFrame(oneh.transform(X_test[cat]), columns=oneh.get_feature_names_out(cat), index=X_test.index)\n",
    "\n",
    "# concaténation avec les autres colonnes non catégorielles\n",
    "X_train = pd.concat([X_train.drop(cat, axis=1), cat_train_encoded], axis=1)\n",
    "X_test = pd.concat([X_test.drop(cat, axis=1), cat_test_encoded], axis=1)\n",
    "\n",
    "# vérification des nouvelles dimensions\n",
    "print(\"Dimension du jeu d'entrainement :\", X_train.shape)\n",
    "print(\"Dimension du jeu de test :\",X_test.shape)"
   ]
  },
  {
   "cell_type": "code",
   "execution_count": 274,
   "metadata": {
    "colab": {
     "base_uri": "https://localhost:8080/"
    },
    "id": "rW7hpcT7Tsgy",
    "outputId": "77e5600a-294f-44a3-bf91-4891a1d5c5c4"
   },
   "outputs": [
    {
     "name": "stdout",
     "output_type": "stream",
     "text": [
      "(528, 18)\n",
      "(132, 18)\n"
     ]
    }
   ],
   "source": [
    "# Mise à l'échelle des données numériques\n",
    "sc = StandardScaler()\n",
    "num_train_scaled = sc.fit_transform(num_train)\n",
    "num_test_scaled = sc.transform(num_test)\n",
    "\n",
    "# convertion en dataframe :\n",
    "num_train_scaled = pd.DataFrame(num_train_scaled, columns=num_train.columns)\n",
    "num_test_scaled = pd.DataFrame(num_test_scaled, columns=num_test.columns)\n",
    "\n",
    "# conversion du résultat d'encodage en DataFrame sinon impossible de concaténer les données\n",
    "oneh = OneHotEncoder(drop='first', sparse_output=False, handle_unknown='ignore')\n",
    "cat_train_encoded = pd.DataFrame(oneh.fit_transform(cat_train), columns=oneh.get_feature_names_out(cat_train.columns))\n",
    "cat_test_encoded = pd.DataFrame(oneh.transform(cat_test), columns=oneh.get_feature_names_out(cat_test.columns))\n",
    "\n",
    "# reconstitution du jeux d'entraînement et de test (génération d'un nouvel index) :\n",
    "X_train_concat = pd.concat([num_train_scaled.reset_index(drop=True), cat_train_encoded.reset_index(drop=True)], axis=1)\n",
    "X_test_concat = pd.concat([num_test_scaled.reset_index(drop=True), cat_test_encoded.reset_index(drop=True)], axis=1)\n",
    "\n",
    "# affichage des dimmensions :\n",
    "print(X_train_concat.shape)\n",
    "print(X_test_concat.shape)"
   ]
  },
  {
   "cell_type": "code",
   "execution_count": 284,
   "metadata": {},
   "outputs": [
    {
     "data": {
      "text/plain": [
       "['X_train_concat']"
      ]
     },
     "execution_count": 284,
     "metadata": {},
     "output_type": "execute_result"
    }
   ],
   "source": [
    "joblib.dump(X_train_concat, \"X_train_concat\")"
   ]
  },
  {
   "cell_type": "markdown",
   "metadata": {
    "id": "2ieElZb0o2i_"
   },
   "source": [
    "# III. Test et choix des modèles"
   ]
  },
  {
   "cell_type": "markdown",
   "metadata": {
    "id": "TS5URuY_8M9u"
   },
   "source": [
    "# *Les modèles les plus performants (ordre décroissant)*"
   ]
  },
  {
   "cell_type": "code",
   "execution_count": null,
   "metadata": {
    "colab": {
     "base_uri": "https://localhost:8080/"
    },
    "id": "QIWZfyov0l_q",
    "outputId": "312a480b-53cd-4476-9f5f-14c6fc18b535"
   },
   "outputs": [],
   "source": [
    "# Import du module LazyPredict\n",
    "from lazypredict.Supervised import LazyRegressor, LazyClassifier\n",
    "\n",
    "reg = LazyRegressor(verbose=0, ignore_warnings=True, custom_metric=None)\n",
    "models, predictions = reg.fit(X_train, X_test, y_train, y_test)\n",
    "\n",
    "print(models)"
   ]
  },
  {
   "cell_type": "markdown",
   "metadata": {
    "id": "UfiHqosmfZYr"
   },
   "source": [
    "## a. Extra Trees Regressor"
   ]
  },
  {
   "cell_type": "code",
   "execution_count": null,
   "metadata": {
    "colab": {
     "base_uri": "https://localhost:8080/"
    },
    "id": "UikCRGE8YTE-",
    "outputId": "fcfdcef7-2eab-45cf-d48f-4d1b1169fb65"
   },
   "outputs": [],
   "source": [
    "# Importation de l'Extra Trees Regressor\n",
    "from sklearn.ensemble import ExtraTreesRegressor\n",
    "\n",
    "# instanciation du modèle Extra Trees Regressor et entrainement sur les données d'entraînement\n",
    "et_regressor = ExtraTreesRegressor(random_state=42)\n",
    "et_regressor.fit(X_train_concat, y_train)"
   ]
  },
  {
   "cell_type": "code",
   "execution_count": null,
   "metadata": {},
   "outputs": [],
   "source": [
    "import joblib\n",
    "joblib.dump(et_regressor, \"model_et_regressor\")"
   ]
  },
  {
   "cell_type": "code",
   "execution_count": 280,
   "metadata": {},
   "outputs": [
    {
     "name": "stdout",
     "output_type": "stream",
     "text": [
      "Score R2 sur les données d'entraînement : 0.9989545616198728\n",
      "Score R2 sur les données de test : 0.9678605197212603\n"
     ]
    }
   ],
   "source": [
    "# évaluation du modèle à l'aide de la méthode score sur les données d'entraînement et de test (coefficient de détermination ou R2)\n",
    "print(\"Score R2 sur les données d'entraînement :\", et_regressor.score(X_train_concat, y_train))\n",
    "print(\"Score R2 sur les données de test :\", et_regressor.score(X_test_concat, y_test))"
   ]
  },
  {
   "cell_type": "code",
   "execution_count": null,
   "metadata": {},
   "outputs": [],
   "source": [
    "joblib.dump(et_regressor, \"et_regressor\")"
   ]
  },
  {
   "cell_type": "code",
   "execution_count": 278,
   "metadata": {
    "colab": {
     "base_uri": "https://localhost:8080/",
     "height": 81
    },
    "id": "eNTFu0KXs31e",
    "outputId": "410b9f46-093f-4f6a-824b-46537cce217f"
   },
   "outputs": [
    {
     "data": {
      "text/html": [
       "<div>\n",
       "<style scoped>\n",
       "    .dataframe tbody tr th:only-of-type {\n",
       "        vertical-align: middle;\n",
       "    }\n",
       "\n",
       "    .dataframe tbody tr th {\n",
       "        vertical-align: top;\n",
       "    }\n",
       "\n",
       "    .dataframe thead th {\n",
       "        text-align: right;\n",
       "    }\n",
       "</style>\n",
       "<table border=\"1\" class=\"dataframe\">\n",
       "  <thead>\n",
       "    <tr style=\"text-align: right;\">\n",
       "      <th></th>\n",
       "      <th>MAE train</th>\n",
       "      <th>MAE test</th>\n",
       "      <th>MSE train</th>\n",
       "      <th>MSE test</th>\n",
       "      <th>RMSE train</th>\n",
       "      <th>RMSE test</th>\n",
       "    </tr>\n",
       "  </thead>\n",
       "  <tbody>\n",
       "    <tr>\n",
       "      <th>Extra Trees</th>\n",
       "      <td>0.72</td>\n",
       "      <td>7.04</td>\n",
       "      <td>3.94</td>\n",
       "      <td>108.21</td>\n",
       "      <td>1.98</td>\n",
       "      <td>10.40</td>\n",
       "    </tr>\n",
       "  </tbody>\n",
       "</table>\n",
       "</div>"
      ],
      "text/plain": [
       "             MAE train  MAE test  MSE train  MSE test  RMSE train  RMSE test\n",
       "Extra Trees       0.72      7.04       3.94    108.21        1.98      10.40"
      ]
     },
     "execution_count": 278,
     "metadata": {},
     "output_type": "execute_result"
    }
   ],
   "source": [
    "# Calcul des autres métriques sur les jeux d'entrainement et de test (MAE, MSE, RMSE)\n",
    "from sklearn.metrics import mean_squared_error, mean_absolute_error, mean_squared_error\n",
    "y_pred_et_train = et_regressor.predict(X_train_concat)\n",
    "y_pred_et_test = et_regressor.predict(X_test_concat)\n",
    "\n",
    "# jeu d'entraînement\n",
    "mae_et_train = mean_absolute_error(y_train, y_pred_et_train)\n",
    "mse_et_train = mean_squared_error(y_train, y_pred_et_train, squared=True)\n",
    "rmse_et_train = mean_squared_error(y_train, y_pred_et_train, squared=False)\n",
    "\n",
    "# jeu de test\n",
    "mae_et_test = mean_absolute_error(y_test, y_pred_et_test)\n",
    "mse_et_test = mean_squared_error(y_test, y_pred_et_test, squared=True)\n",
    "rmse_et_test = mean_squared_error(y_test, y_pred_et_test, squared=False)\n",
    "\n",
    "# création d'un DataFrame pour comparer les métriques des deux algorithmes\n",
    "data = {\n",
    "    'MAE train': [ mae_et_train],\n",
    "    'MAE test': [mae_et_test],\n",
    "    'MSE train': [mse_et_train],\n",
    "    'MSE test': [mse_et_test],\n",
    "    'RMSE train': [rmse_et_train],\n",
    "    'RMSE test': [rmse_et_test]\n",
    "}\n",
    "\n",
    "df_metrics_et = pd.DataFrame(data, index=['Extra Trees'])\n",
    "\n",
    "# affichage du DataFrame\n",
    "df_metrics_et.head()"
   ]
  },
  {
   "cell_type": "code",
   "execution_count": 276,
   "metadata": {
    "colab": {
     "base_uri": "https://localhost:8080/"
    },
    "id": "MXHqSqbpvCsf",
    "outputId": "c660a1f2-2e67-4a26-b163-8f35f0e1d568"
   },
   "outputs": [
    {
     "name": "stdout",
     "output_type": "stream",
     "text": [
      "Scores de validation croisée :  [0.93045444 0.93286144 0.92818891 0.92000615 0.90502452]\n",
      "Moyenne des scores :  0.923307091061502\n"
     ]
    }
   ],
   "source": [
    "#Validation croisée sur le modèle Extra Trees Regressor\n",
    "from sklearn.model_selection import cross_val_score\n",
    "scores = cross_val_score(et_regressor, X_train_concat, y_train, cv=5, scoring='r2')\n",
    "print(\"Scores de validation croisée : \", scores)\n",
    "print(\"Moyenne des scores : \", scores.mean())"
   ]
  },
  {
   "cell_type": "code",
   "execution_count": null,
   "metadata": {
    "colab": {
     "base_uri": "https://localhost:8080/",
     "height": 371
    },
    "id": "cBuYWhK4iqYY",
    "outputId": "c4f5d6f0-a5c5-46b1-bc76-fdfd32ed6819"
   },
   "outputs": [],
   "source": [
    "# Affichage de plusieurs arbres de l'Extra Trees Regressor\n",
    "from sklearn.tree import plot_tree\n",
    "\n",
    "n_trees_to_display = 3\n",
    "\n",
    "for i, tree in enumerate(et_regressor.estimators_[:n_trees_to_display]):  # Limiter le nombre d'arbres affichés\n",
    "    plt.figure(figsize=(20, 10))  # Ajuster la taille de la figure\n",
    "    plot_tree(tree, filled=True)\n",
    "    plt.title(f\"Arbre {i+1} de l'Extra Trees Regressor\")\n",
    "    plt.show()"
   ]
  },
  {
   "cell_type": "code",
   "execution_count": null,
   "metadata": {
    "colab": {
     "base_uri": "https://localhost:8080/"
    },
    "id": "NtVWZqMykdnP",
    "outputId": "123b8c58-7b63-48d9-9f18-b0641459582d"
   },
   "outputs": [],
   "source": [
    "# Nombre d'arbres utilisés dans l'Extra Trees Regressor\n",
    "nombre_arbres = len(et_regressor.estimators_)\n",
    "print(f\"Nombre d'arbres générés par l'Extra Trees Regressor : {nombre_arbres}\")"
   ]
  },
  {
   "cell_type": "markdown",
   "metadata": {
    "id": "dWhrbn7V7VcZ"
   },
   "source": [
    "## b. XGB Regressor"
   ]
  },
  {
   "cell_type": "code",
   "execution_count": null,
   "metadata": {
    "colab": {
     "base_uri": "https://localhost:8080/"
    },
    "id": "dSOywhwPIDh2",
    "outputId": "71372664-aeb6-47ce-8f77-0cde7e6b4bb0"
   },
   "outputs": [],
   "source": [
    "import xgboost as xgb\n",
    "\n",
    "# Création d'une instance de XGBRegressor\n",
    "xgb_regressor = xgb.XGBRegressor(objective='reg:squarederror', random_state=42)\n",
    "\n",
    "# entraînement du modèle\n",
    "xgb_regressor.fit(X_train_concat, y_train)"
   ]
  },
  {
   "cell_type": "code",
   "execution_count": null,
   "metadata": {},
   "outputs": [],
   "source": [
    "joblib.dump(xgb_regressor, \"model_xgb_regressor\")"
   ]
  },
  {
   "cell_type": "code",
   "execution_count": null,
   "metadata": {},
   "outputs": [],
   "source": [
    "# affichage du score R2\n",
    "print(xgb_regressor.score(X_train_concat, y_train))\n",
    "print(xgb_regressor.score(X_test_concat, y_test))"
   ]
  },
  {
   "cell_type": "code",
   "execution_count": null,
   "metadata": {
    "colab": {
     "base_uri": "https://localhost:8080/",
     "height": 81
    },
    "id": "TyqJV4BhJrC9",
    "outputId": "22ddef68-4498-4f74-ca6e-214f29c71d37"
   },
   "outputs": [],
   "source": [
    "from sklearn.metrics import mean_squared_error, mean_absolute_error, r2_score\n",
    "\n",
    "# Prédictions\n",
    "y_pred_xgb_train = xgb_regressor.predict(X_train_concat)\n",
    "y_pred_xgb_test = xgb_regressor.predict(X_test_concat)\n",
    "\n",
    "\n",
    "# jeu d'entraînement\n",
    "mae_xgb_train = mean_absolute_error(y_train, y_pred_xgb_train)\n",
    "mse_xgb_train = mean_squared_error(y_train, y_pred_xgb_train, squared=True)\n",
    "rmse_xgb_train = mean_squared_error(y_train, y_pred_xgb_train, squared=False)\n",
    "\n",
    "\n",
    "# jeu de test\n",
    "mae_xgb_test = mean_absolute_error(y_test, y_pred_xgb_test)\n",
    "mse_xgb_test = mean_squared_error(y_test, y_pred_xgb_test, squared=True)\n",
    "rmse_xgb_test = mean_squared_error(y_test, y_pred_xgb_test, squared=False)\n",
    "\n",
    "# Création d'un DataFrame pour comparer les métriques des trois algorithmes\n",
    "data_xgb_test = {\n",
    "    'MAE train': [mae_xgb_train],\n",
    "    'MAE test': [mae_xgb_test],\n",
    "    'MSE train': [mse_xgb_train],\n",
    "    'MSE test': [mse_xgb_test],\n",
    "    'RMSE train': [rmse_xgb_train],\n",
    "    'RMSE test': [rmse_xgb_test]\n",
    "\n",
    "}\n",
    "\n",
    "df_xgb_test = pd.DataFrame(data_xgb_test, index=['XGBoost'])\n",
    "\n",
    "# affichage du DataFrame\n",
    "df_xgb_test.head()"
   ]
  },
  {
   "cell_type": "code",
   "execution_count": null,
   "metadata": {
    "colab": {
     "base_uri": "https://localhost:8080/"
    },
    "id": "pbPX2NQqsCr5",
    "outputId": "a8201ede-eb1b-41d4-dff5-78ac58f74b53"
   },
   "outputs": [],
   "source": [
    "# Validation croisée sur le modèle XGB Regressor\n",
    "scores = cross_val_score(xgb_regressor, X_train_concat, y_train, cv=5, scoring='r2')\n",
    "\n",
    "# affichage des résultats\n",
    "print(\"Scores de validation croisée du xgb Random Search (R²) :\", scores)\n",
    "print(\"Moyenne des scores de validation croisée du xgb Random Search (R²) :\", np.mean(scores))"
   ]
  },
  {
   "cell_type": "markdown",
   "metadata": {
    "id": "H3GY3Yg7_kNX"
   },
   "source": [
    "## c. Random Forest Regressor"
   ]
  },
  {
   "cell_type": "code",
   "execution_count": null,
   "metadata": {
    "colab": {
     "base_uri": "https://localhost:8080/"
    },
    "id": "NXvhkXLROG7y",
    "outputId": "9ef4c636-a8ce-41a0-c648-426922beebef"
   },
   "outputs": [],
   "source": [
    "# Instanciation du modèle Random Forest Regressor et entrainement sur le train set\n",
    "from sklearn.ensemble import RandomForestRegressor\n",
    "\n",
    "rf_regressor = RandomForestRegressor(random_state=42)\n",
    "rf_regressor.fit(X_train_concat, y_train)"
   ]
  },
  {
   "cell_type": "code",
   "execution_count": null,
   "metadata": {},
   "outputs": [],
   "source": [
    "joblib.dump(rf_regressor, \"model_rf_regressor\")"
   ]
  },
  {
   "cell_type": "code",
   "execution_count": null,
   "metadata": {
    "colab": {
     "base_uri": "https://localhost:8080/"
    },
    "id": "D_oUfnikPapC",
    "outputId": "e61092b3-9f2f-4941-beaf-fcb1b13284c9"
   },
   "outputs": [],
   "source": [
    "# Evaluation du modèle à l'aide de la méthode score sur les données d'entraînement et de test (coefficient de détermination ou R2)\n",
    "print(\"Score R2 sur les données d'entraînement :\", rf_regressor.score(X_train_concat, y_train))\n",
    "print(\"Score R2 sur les données de test :\", rf_regressor.score(X_test_concat, y_test))"
   ]
  },
  {
   "cell_type": "code",
   "execution_count": null,
   "metadata": {
    "colab": {
     "base_uri": "https://localhost:8080/",
     "height": 81
    },
    "id": "EqctKIKwRHDd",
    "outputId": "b98bfc92-954f-49e9-bfae-0f3898e62756"
   },
   "outputs": [],
   "source": [
    "# Calcul des autres métriques sur les jeux d'entrainement et de test (MAE, MSE, RMSE)\n",
    "y_pred_random_forest = rf_regressor.predict(X_test_concat)\n",
    "y_pred_random_forest_train = rf_regressor.predict(X_train_concat)\n",
    "\n",
    "# jeu d'entraînement\n",
    "mae_random_forest_train = mean_absolute_error(y_train,y_pred_random_forest_train)\n",
    "mse_random_forest_train = mean_squared_error(y_train,y_pred_random_forest_train,squared=True)\n",
    "rmse_random_forest_train = mean_squared_error(y_train,y_pred_random_forest_train,squared=False)\n",
    "\n",
    "# jeu de test\n",
    "mae_random_forest_test = mean_absolute_error(y_test,y_pred_random_forest)\n",
    "mse_random_forest_test = mean_squared_error(y_test,y_pred_random_forest,squared=True)\n",
    "rmse_random_forest_test = mean_squared_error(y_test,y_pred_random_forest,squared=False)\n",
    "\n",
    "\n",
    "# création d'un DataFrame\n",
    "data_rf = {'MAE train': [mae_random_forest_train],\n",
    "        'MAE test': [mae_random_forest_test],\n",
    "        'MSE train': [mse_random_forest_train],\n",
    "        'MSE test': [mse_random_forest_test],\n",
    "        'RMSE train': [rmse_random_forest_train],\n",
    "        'RMSE test': [rmse_random_forest_test]}\n",
    "\n",
    "df_metrics_rf = pd.DataFrame(data_rf, index = ['Random Forest'])\n",
    "\n",
    "df_metrics_rf.head()"
   ]
  },
  {
   "cell_type": "code",
   "execution_count": null,
   "metadata": {
    "colab": {
     "base_uri": "https://localhost:8080/"
    },
    "id": "sUkOOs7uXvtZ",
    "outputId": "66eadebe-a9c0-40c9-cce3-f285eea8120a"
   },
   "outputs": [],
   "source": [
    "#Validation croisée sur le modèle Random Forest Regressor\n",
    "from sklearn.model_selection import cross_val_score\n",
    "scores = cross_val_score(rf_regressor, X_train_concat, y_train, cv=5, scoring='r2')\n",
    "print(\"Scores de validation croisée (hyperparamètres par défaut): \", scores)\n",
    "print(\"Moyenne des scores (hyperparamètres par défaut): \", scores.mean())"
   ]
  },
  {
   "cell_type": "markdown",
   "metadata": {
    "id": "i7QkHiPZ8UJ4"
   },
   "source": [
    "# *Les modèles les moins performants*"
   ]
  },
  {
   "cell_type": "markdown",
   "metadata": {
    "id": "1UuLNckX7yJ5"
   },
   "source": [
    "## d. Linear Regression"
   ]
  },
  {
   "cell_type": "code",
   "execution_count": null,
   "metadata": {
    "colab": {
     "base_uri": "https://localhost:8080/",
     "height": 235
    },
    "id": "zKGuWRW66rPZ",
    "outputId": "60150ab7-ec2c-41ea-ce5f-a5fdb0b4ce4c"
   },
   "outputs": [],
   "source": [
    "# Instanciation du modèle Linear Regression\n",
    "\n",
    "from sklearn.linear_model import LinearRegression\n",
    "lr = LinearRegression()\n",
    "lr.fit(X_train, y_train)"
   ]
  },
  {
   "cell_type": "code",
   "execution_count": null,
   "metadata": {},
   "outputs": [],
   "source": [
    "joblib.dump(lr, \"model_lr\")"
   ]
  },
  {
   "cell_type": "code",
   "execution_count": null,
   "metadata": {},
   "outputs": [],
   "source": [
    "print('Score du modèle sur train:', lr.score(X_train, y_train))\n",
    "print('Score du modèle sur test:', lr.score(X_test, y_test))\n",
    "\n",
    "y_pred = lr.predict(X_test)\n",
    "x_pred = lr.predict(X_train)\n",
    "\n",
    "from sklearn.metrics import mean_squared_error, mean_squared_error, mean_absolute_error\n",
    "mse_train_lr = mean_squared_error(y_train, x_pred)\n",
    "mae_train_lr = mean_absolute_error(y_train, x_pred)\n",
    "rmse_train_lr = mean_squared_error(y_train, x_pred, squared = False)\n",
    "\n",
    "# affichage des métriques\n",
    "print(f'MSE (train) : {mse_train_lr}')\n",
    "print(f'MAE (train) : {mae_train_lr}')\n",
    "print(f'RMSE (train) : {rmse_train_lr}')\n",
    "\n",
    "mse_test_lr = mean_squared_error(y_test, y_pred)\n",
    "mae_test_lr = mean_absolute_error(y_test, y_pred)\n",
    "rmse_test_lr = mean_squared_error(y_test, y_pred, squared = False)\n",
    "\n",
    "# affichage des métriques\n",
    "print(f'MSE : {mse_test_lr}')\n",
    "print(f'MAE : {mae_test_lr}')\n",
    "print(f'RMSE : {rmse_test_lr}')\n",
    "\n",
    "data = {\"MSE train\": mse_train_lr,\n",
    "        \"MAE train\": mae_train_lr,\n",
    "       \"RMSE train\": rmse_train_lr,\n",
    "        \"MSE test\": mse_test_lr,\n",
    "        \"MAE test\": mae_test_lr,\n",
    "        \"RMSE test\": rmse_test_lr}\n",
    "\n",
    "Tableau_lr = pd.DataFrame(data, index=['Regression Lineaire'])\n",
    "display(Tableau_lr)"
   ]
  },
  {
   "cell_type": "markdown",
   "metadata": {
    "id": "4Ct_XA0R8mUG"
   },
   "source": [
    "## e. Decision Tree Regressor"
   ]
  },
  {
   "cell_type": "code",
   "execution_count": null,
   "metadata": {
    "colab": {
     "base_uri": "https://localhost:8080/"
    },
    "id": "NXM18ANdXicp",
    "outputId": "8d1930f2-13d1-47e5-c316-81ef5c53a3c0"
   },
   "outputs": [],
   "source": [
    "# Instanciation du modèle Decision Tree Regressor\n",
    "\n",
    "from sklearn.tree import DecisionTreeRegressor\n",
    "\n",
    "regressor = DecisionTreeRegressor(random_state=42)\n",
    "\n",
    "regressor.fit(X_train_concat, y_train)\n",
    "\n"
   ]
  },
  {
   "cell_type": "code",
   "execution_count": null,
   "metadata": {},
   "outputs": [],
   "source": [
    "joblib.dump(regressor, \"model_regressor\")"
   ]
  },
  {
   "cell_type": "code",
   "execution_count": null,
   "metadata": {},
   "outputs": [],
   "source": [
    "print(regressor.score(X_train_concat,y_train))\n",
    "print(regressor.score(X_test_concat,y_test))"
   ]
  },
  {
   "cell_type": "code",
   "execution_count": null,
   "metadata": {
    "colab": {
     "base_uri": "https://localhost:8080/",
     "height": 81
    },
    "id": "CqESP0h3ppoL",
    "outputId": "0d82521c-23fb-42d4-a4e5-6b0070ada935"
   },
   "outputs": [],
   "source": [
    "from sklearn.metrics import mean_squared_error\n",
    "from sklearn.metrics import mean_absolute_error\n",
    "\n",
    "# Prédictions\n",
    "y_pred_regressor_train = regressor.predict(X_train_concat)\n",
    "y_pred_regressor_test = regressor.predict(X_test_concat)\n",
    "\n",
    "\n",
    "# Calcul des métriques pour DecisionTreeRegressor\n",
    "\n",
    "# jeu d'entraînement\n",
    "mae_regressor_train = mean_absolute_error(y_train, y_pred_regressor_train)\n",
    "mse_regressor_train = mean_squared_error(y_train, y_pred_regressor_train, squared=True)\n",
    "rmse_regressor_train = mean_squared_error(y_train, y_pred_regressor_train, squared=False)\n",
    "# jeu de test\n",
    "mae_regressor_test = mean_absolute_error(y_test, y_pred_regressor_test)\n",
    "mse_regressor_test = mean_squared_error(y_test, y_pred_regressor_test, squared=True)\n",
    "rmse_regressor_test = mean_squared_error(y_test, y_pred_regressor_test, squared=False)\n",
    "\n",
    "# Création d'un DataFrame pour comparer les métriques des trois algorithmes\n",
    "data_regressor_test = {\n",
    "    'MAE train': [mae_regressor_train],\n",
    "    'MAE test': [mae_regressor_test],\n",
    "    'MSE train': [mse_regressor_train],\n",
    "    'MSE test': [mse_regressor_test],\n",
    "    'RMSE train': [rmse_regressor_train],\n",
    "    'RMSE test': [rmse_regressor_test]\n",
    "}\n",
    "\n",
    "df_regressor_test = pd.DataFrame(data_regressor_test, index=['DecisionTreeRegressor'])\n",
    "\n",
    "# Affichage du DataFrame\n",
    "df_regressor_test.head()"
   ]
  },
  {
   "cell_type": "markdown",
   "metadata": {
    "id": "WnEWHEQu89fK"
   },
   "source": [
    "## f. KNN"
   ]
  },
  {
   "cell_type": "code",
   "execution_count": null,
   "metadata": {
    "colab": {
     "base_uri": "https://localhost:8080/"
    },
    "id": "-IR4e1iMA9G9",
    "outputId": "b38e4eda-7820-4092-a560-e0c8d48ec5b1"
   },
   "outputs": [],
   "source": [
    "from sklearn.neighbors import KNeighborsRegressor\n",
    "\n",
    "# Entraînement du modèle avec la meilleure valeur de n_neighbors\n",
    "knn = KNeighborsRegressor(n_neighbors=3)\n",
    "knn.fit(X_train, y_train)"
   ]
  },
  {
   "cell_type": "code",
   "execution_count": null,
   "metadata": {},
   "outputs": [],
   "source": [
    "joblib.dump(knn, \"model_knn\")"
   ]
  },
  {
   "cell_type": "code",
   "execution_count": null,
   "metadata": {},
   "outputs": [],
   "source": [
    "# Entraînement du modèle avec la distance de Minkowski (p=2)\n",
    "knn_minkowski = KNeighborsRegressor(n_neighbors=3, metric='minkowski', p=2)\n",
    "knn_minkowski.fit(X_train, y_train)\n",
    "score_minkowski = knn_minkowski.score(X_test, y_test)\n",
    "\n",
    "# Entraînement du modèle avec la distance de Manhattan\n",
    "knn_manhattan = KNeighborsRegressor(n_neighbors=3, metric='manhattan')\n",
    "knn_manhattan.fit(X_train, y_train)\n",
    "score_manhattan = knn_manhattan.score(X_test, y_test)\n",
    "\n",
    "# Entraînement du modèle avec la distance euclidienne (identique à Minkowski avec p=2)\n",
    "knn_euclidienne = KNeighborsRegressor(n_neighbors=3, metric='euclidean')\n",
    "knn_euclidienne.fit(X_train, y_train)\n",
    "score_euclidienne = knn_euclidienne.score(X_test, y_test)\n",
    "\n",
    "# Entraînement du modèle avec la distance de Tchebyshev\n",
    "knn_tchebyshev = KNeighborsRegressor(n_neighbors=3, metric='chebyshev')\n",
    "knn_tchebyshev.fit(X_train, y_train)\n",
    "score_tchebyshev = knn_tchebyshev.score(X_test, y_test)\n",
    "\n",
    "\n",
    "# Affichage des scores\n",
    "print(\"Score Minkowski :\",score_minkowski)\n",
    "print(\"Score Manhattan :\",score_manhattan)\n",
    "print(\"Score Euclidienne :\",score_euclidienne)\n",
    "print(\"Score Tchebyshev :\",score_tchebyshev)"
   ]
  },
  {
   "cell_type": "code",
   "execution_count": null,
   "metadata": {
    "colab": {
     "base_uri": "https://localhost:8080/"
    },
    "id": "9gwjcXt-Hctf",
    "outputId": "212a9764-3441-49c9-9f01-67231a4962d6"
   },
   "outputs": [],
   "source": [
    "# Entraînement du modèle avec la distance de Mahalanobis\n",
    "'''La distance de Mahalanobis nécessite la matrice de covariance'''\n",
    "import numpy as np\n",
    "from sklearn.neighbors import KNeighborsRegressor\n",
    "'''from sklearn.metrics import DistanceMetric # Plus besoin de DistanceMetric ici'''\n",
    "\n",
    "V = np.cov(X_train.T)\n",
    "\n",
    "# Définition d'une fonction pour calculer la distance de Mahalanobis\n",
    "def mahalanobis_distance(x, y):\n",
    "    return np.sqrt((x - y) @ np.linalg.inv(V) @ (x - y).T)\n",
    "\n",
    "knn_mahalanobis = KNeighborsRegressor(n_neighbors=3, metric=mahalanobis_distance) # Utiliser la fonction personnalisée\n",
    "knn_mahalanobis.fit(X_train, y_train)\n",
    "score_mahalanobis = knn_mahalanobis.score(X_test, y_test)\n",
    "\n",
    "# Affichage du score\n",
    "print(\"Score Mahalanobis :\", score_mahalanobis)"
   ]
  },
  {
   "cell_type": "code",
   "execution_count": null,
   "metadata": {
    "colab": {
     "base_uri": "https://localhost:8080/",
     "height": 217
    },
    "id": "Wtg38w0BHkyg",
    "outputId": "a956cbed-c64b-405c-834b-b304f89cdc99"
   },
   "outputs": [],
   "source": [
    "# Entraînement du modèle avec la distance euclidienne standardisée (SEuclidienne)\n",
    "from sklearn.preprocessing import StandardScaler\n",
    "from sklearn.neighbors import KNeighborsRegressor\n",
    "\n",
    "scaler = StandardScaler()\n",
    "X_train_scaled = scaler.fit_transform(X_train)\n",
    "X_test_scaled = scaler.transform(X_test)\n",
    "Y_train_scaled = scaler.fit_transform(y_train.values.reshape(-1, 1))\n",
    "Y_test_scaled = scaler.transform(y_test.values.reshape(-1, 1))\n",
    "\n",
    "#Calcul de la variance V à partir de X_train_scaled\n",
    "V = np.var(X_train_scaled, axis=0, ddof=1)\n",
    "\n",
    "\n",
    "knn_seuclidienne = KNeighborsRegressor(n_neighbors=3, metric='seuclidean', metric_params={'V': V}) # Fournir V ici\n",
    "knn_seuclidienne.fit(X_train_scaled, y_train)\n",
    "score_seuclidienne = knn_seuclidienne.score(X_test_scaled, y_test)\n",
    "print(\"Score SEuclidienne :\", score_seuclidienne)\n",
    "\n",
    "from sklearn.metrics import mean_squared_error\n",
    "from sklearn.metrics import mean_absolute_error\n",
    "\n",
    "# Évaluation du modèle sur le jeu d'entrainement\n",
    "mse_train = mean_squared_error(Y_train_scaled, y_train)\n",
    "mae_train = mean_absolute_error(Y_train_scaled, y_train)\n",
    "rmse_train = mean_squared_error(Y_train_scaled, y_train, squared=False)\n",
    "\n",
    "# Affichage des métriques\n",
    "print(f'MSE (train) : {mse_train}')\n",
    "print(f'MAE (train) : {mae_train}')\n",
    "print(f'RMSE (train) : {rmse_train}')\n",
    "\n",
    "# Évaluation du modèle sur le jeu de test\n",
    "y_pred = knn_euclidienne.predict(X_test)\n",
    "mse_test = mean_squared_error(y_test, y_pred)\n",
    "mae_test = mean_absolute_error(y_test, y_pred)\n",
    "rmse_test = mean_squared_error(y_test, y_pred, squared=False)\n",
    "\n",
    "# Affichage des métriques\n",
    "print(f'MSE : {mse_test}')\n",
    "print(f'MAE : {mae_test}')\n",
    "print(f'RMSE : {rmse_test}')\n",
    "\n",
    "data = {\"MSE train\": mse_train,\n",
    "        \"MAE train\": mae_train,\n",
    "       \"RMSE train\": rmse_train,\n",
    "        \"MSE test\": mse_test,\n",
    "        \"MAE test\": mae_test,\n",
    "        \"RMSE test\": rmse_test}\n",
    "\n",
    "df = pd.DataFrame(data, index=[\"KNN Euclidien\"])\n",
    "df"
   ]
  },
  {
   "cell_type": "code",
   "execution_count": null,
   "metadata": {
    "colab": {
     "base_uri": "https://localhost:8080/"
    },
    "id": "aWZ-VAZQx3os",
    "outputId": "75ffcdd9-dc60-4345-9c87-89ccb32bb617"
   },
   "outputs": [],
   "source": [
    "# Évaluation du modèle à l'aide de la méthode score sur les données d'entraînement et de test (coefficient de détermination ou R2)\n",
    "print(\"Score  sur les données d'entraînement :\", knn_euclidienne.score(X_train, y_train))\n",
    "print(\"Score  sur les données de test :\", knn_euclidienne.score(X_test, y_test))"
   ]
  },
  {
   "cell_type": "code",
   "execution_count": null,
   "metadata": {
    "colab": {
     "base_uri": "https://localhost:8080/",
     "height": 381
    },
    "id": "u4x6v9QGj4dM",
    "outputId": "b6337d02-4851-47fb-b10d-5d8500b69788"
   },
   "outputs": [],
   "source": [
    "# Entraînement du modèle avec la distance de Manhattan\n",
    "knn_manhattan = KNeighborsRegressor(n_neighbors=3, metric='manhattan')\n",
    "knn_manhattan.fit(X_train, y_train)\n",
    "score_manhattan_train = knn_manhattan.score(X_train, y_train)\n",
    "score_manhattan = knn_manhattan.score(X_test, y_test)\n",
    "\n",
    "print(\"Score Manhattan sur les données d'entraînement :\", score_manhattan_train)\n",
    "print(\"Score Manhattan sur les données de test :\", score_manhattan)\n",
    "\n",
    "from sklearn.metrics import mean_squared_error\n",
    "from sklearn.metrics import mean_absolute_error\n",
    "\n",
    "# Évaluation du modèle sur le jeu d'entrainement\n",
    "mse_train_mht = mean_squared_error(Y_train_scaled, y_train)\n",
    "mae_train_mht = mean_absolute_error(Y_train_scaled, y_train)\n",
    "rmse_train_mht = mean_squared_error(Y_train_scaled, y_train)\n",
    "\n",
    "# Affichage des métriques\n",
    "print(f'MSE (train) : {mse_train_mht}')\n",
    "print(f'MAE (train) : {mae_train_mht}')\n",
    "print(f'RMSE (train) : {rmse_train_mht}')\n",
    "\n",
    "# Évaluation du modèle sur le jeu de test\n",
    "y_pred = knn_manhattan.predict(X_test)\n",
    "mse_test_mht = mean_squared_error(y_test, y_pred)\n",
    "mae_test_mht = mean_absolute_error(y_test, y_pred)\n",
    "rmse_test_mht = mean_squared_error(y_test, y_pred)\n",
    "\n",
    "# Affichage des métriques\n",
    "print(f'MSE : {mse_test_mht}')\n",
    "print(f'MAE : {mae_test_mht}')\n",
    "print(f'RMSE : {rmse_test_mht}')\n",
    "\n",
    "data = {\"MSE train\": mse_train_mht,\n",
    "        \"MAE train\": mae_train_mht,\n",
    "       \"RMSE train\": rmse_train_mht,\n",
    "        \"MSE test\": mse_test_mht,\n",
    "        \"MAE test\": mae_test_mht,\n",
    "        \"RMSE test\": rmse_test_mht}\n",
    "\n",
    "tableau = pd.DataFrame(data, index=[\"KNN Manhattan\"])\n",
    "display(tableau)\n",
    "\n",
    "estimator = knn\n",
    "estimator.get_params()"
   ]
  },
  {
   "cell_type": "markdown",
   "metadata": {
    "id": "AEBGry4p-HHk"
   },
   "source": [
    "# IV. Optimisation des modèles"
   ]
  },
  {
   "cell_type": "markdown",
   "metadata": {
    "id": "Cv4Vqrte-1ZY"
   },
   "source": [
    "# *Les modèles les plus performants (ordre décroissant)*"
   ]
  },
  {
   "cell_type": "markdown",
   "metadata": {
    "id": "1lx_rbu0-9-f"
   },
   "source": [
    "## a. Extra Trees Regressor"
   ]
  },
  {
   "cell_type": "code",
   "execution_count": null,
   "metadata": {
    "colab": {
     "base_uri": "https://localhost:8080/"
    },
    "id": "RXXMUwFMndcr",
    "outputId": "64ccc9fb-b579-48d0-8145-7c86a369501d"
   },
   "outputs": [],
   "source": [
    "# Affichage des hyperparamètres par défaut du modèle Extra Trees Regressor\n",
    "estimator = et_regressor\n",
    "estimator.get_params()"
   ]
  },
  {
   "cell_type": "code",
   "execution_count": null,
   "metadata": {
    "colab": {
     "base_uri": "https://localhost:8080/",
     "height": 371
    },
    "id": "ayw802-GpcR8",
    "outputId": "ccc3a429-970a-47ce-ed3a-1affc134d01b"
   },
   "outputs": [],
   "source": [
    "# Recherche des hyperparamètres optimaux avec RandomizedSearchCV\n",
    "\n",
    "from sklearn.model_selection import RandomizedSearchCV\n",
    "\n",
    "# liste des hyperparamètres les plus importants\n",
    "hyperparametres = {\n",
    "    'n_estimators': [100, 200, 300, 500],\n",
    "    'max_depth': [None,5,10,15,20,25],\n",
    "    'min_samples_split': [2,3,4, 5, 10, 15,20],\n",
    "    'min_samples_leaf': [1, 2, 3, 4,6,8,10],\n",
    "    'max_features': ['auto', 'sqrt', 'log2'],\n",
    "    'bootstrap': [True, False]\n",
    "}\n",
    "\n",
    "# instanciation de RandomizedSearchCV\n",
    "grid_et_regressor = RandomizedSearchCV(\n",
    "    estimator=et_regressor,\n",
    "    param_distributions=hyperparametres,\n",
    "    n_iter=100,\n",
    "    cv=5,\n",
    "    n_jobs=-1,\n",
    "    scoring='r2'\n",
    ")\n",
    "\n",
    "# exécutiton de la recherche\n",
    "grid_et_regressor.fit(X_train_concat, y_train)\n",
    "\n",
    "# évalutation des meilleurs paramètres sur l'ensemble d'entrainement\n",
    "print(\"Meilleurs paramètres :\", grid_et_regressor.best_params_)\n",
    "print(\"Meilleur score :\", grid_et_regressor.best_score_)\n",
    "\n",
    "# évaluation du meilleur modèle sur l'ensemble de test\n",
    "best_model = grid_et_regressor.best_estimator_\n",
    "test_predictions = best_model.predict(X_test_concat)\n",
    "test_score = r2_score(y_test, test_predictions)\n",
    "print(\"Score R² sur l'ensemble de test :\", test_score)"
   ]
  },
  {
   "cell_type": "code",
   "execution_count": null,
   "metadata": {
    "colab": {
     "base_uri": "https://localhost:8080/"
    },
    "id": "al-q2el3N6hd",
    "outputId": "937a2326-4253-4d27-90ea-0ac8b678b23c"
   },
   "outputs": [],
   "source": [
    "# Rappel des meilleurs hyperparamètres de RandomizedSearchCV\n",
    "best_hyperparams = {\n",
    "    'n_estimators': 300,\n",
    "    'max_depth': None,\n",
    "    'min_samples_split': 5,\n",
    "    'min_samples_leaf': 1,\n",
    "    'criterion': 'squared_error',\n",
    "    'bootstrap': False\n",
    "}\n",
    "\n",
    "# Instanciation d'un nouveau modèle avec les meilleurs hyperparamètres\n",
    "optimized_et_regressor = ExtraTreesRegressor(\n",
    "    n_estimators=best_hyperparams['n_estimators'],\n",
    "    min_samples_split=best_hyperparams['min_samples_split'],\n",
    "    min_samples_leaf=best_hyperparams['min_samples_leaf'],\n",
    "    max_depth=best_hyperparams['max_depth'],\n",
    "    criterion=best_hyperparams['criterion'],\n",
    "    bootstrap=best_hyperparams['bootstrap'],\n",
    "    random_state=42  # Assurer la reproductibilité\n",
    ")\n",
    "\n",
    "# Entraînement du modèle optimisé\n",
    "optimized_et_regressor.fit(X_train_concat, y_train)\n",
    "\n",
    "# Évaluation du modèle de base\n",
    "base_model = ExtraTreesRegressor(random_state=42)\n",
    "base_model.fit(X_train_concat, y_train)\n",
    "base_train_score = base_model.score(X_train_concat, y_train)\n",
    "base_test_score = base_model.score(X_test_concat, y_test)\n",
    "\n",
    "print(\"Score R² sur l'ensemble d'entraînement (hyperparamètres par défaut) :\", base_train_score)\n",
    "print(\"Score R² sur l'ensemble de test (hyperparamètres par défaut) :\", base_test_score)\n",
    "\n",
    "print('----')\n",
    "\n",
    "# Évaluation du modèle optimisé\n",
    "optimized_et_regressor.fit(X_train_concat, y_train)\n",
    "optimized_train_score = optimized_et_regressor.score(X_train_concat, y_train)\n",
    "optimized_test_score = optimized_et_regressor.score(X_test_concat, y_test)\n",
    "\n",
    "print(\"Score R² sur l'ensemble d'entraînement (meilleurs hyperparamètres RandomSearch) :\", optimized_train_score)\n",
    "print(\"Score R² sur l'ensemble de test (meilleurs hyperparamètres RandomSearch) :\", optimized_test_score)\n",
    "\n"
   ]
  },
  {
   "cell_type": "code",
   "execution_count": null,
   "metadata": {
    "colab": {
     "base_uri": "https://localhost:8080/",
     "height": 125
    },
    "id": "sVdUEKtTRQoY",
    "outputId": "2821c8fb-4703-4b8a-ec4f-0a63145a5da3"
   },
   "outputs": [],
   "source": [
    "#Calcul des autres métriques pour le modèle de base (MAE, MSE, RMSE)\n",
    "base_train_predictions = base_model.predict(X_train_concat)\n",
    "base_mae_train = mean_absolute_error(y_train, base_train_predictions)\n",
    "base_mse_train = mean_squared_error(y_train, base_train_predictions)\n",
    "base_rmse_train = mean_squared_error(y_train, base_train_predictions, squared=False)\n",
    "\n",
    "base_test_predictions = base_model.predict(X_test_concat)\n",
    "base_mae_test = mean_absolute_error(y_test, base_test_predictions)\n",
    "base_mse_test = mean_squared_error(y_test, base_test_predictions)\n",
    "base_rmse_test = mean_squared_error(y_test, base_test_predictions, squared=False)\n",
    "\n",
    "# Calcul des autres métriques pour le modèle optimisé (MAE, MSE, RMSE)\n",
    "optimized_train_predictions = optimized_et_regressor.predict(X_train_concat)\n",
    "optimized_mae_train = mean_absolute_error(y_train, optimized_train_predictions)\n",
    "optimized_mse_train = mean_squared_error(y_train, optimized_train_predictions)\n",
    "optimized_rmse_train = mean_squared_error(y_train, optimized_train_predictions, squared=False)\n",
    "\n",
    "optimized_test_predictions = optimized_et_regressor.predict(X_test_concat)\n",
    "optimized_mae_test = mean_absolute_error(y_test, optimized_test_predictions)\n",
    "optimized_mse_test = mean_squared_error(y_test, optimized_test_predictions)\n",
    "optimized_rmse_test = mean_squared_error(y_test, optimized_test_predictions, squared=False)\n",
    "\n",
    "#Création d'un DataFrame pour comparer les métriques des deux modèles\n",
    "data = {\n",
    "    'MAE train': [base_mae_train, optimized_mae_train],\n",
    "    'MAE test': [base_mae_test, optimized_mae_test],\n",
    "    'MSE train': [base_mse_train, optimized_mse_train],\n",
    "    'MSE test': [base_mse_test, optimized_mse_test],\n",
    "    'RMSE train': [base_rmse_train, optimized_rmse_train],\n",
    "    'RMSE test': [base_rmse_test, optimized_rmse_test],\n",
    "    'R² train': [base_train_score, optimized_train_score],\n",
    "    'R² test': [base_test_score, optimized_test_score]\n",
    "}\n",
    "\n",
    "model_names = ['Hyperparamètres par défaut', 'Meilleurs hyperparamètres RandomSearch']\n",
    "\n",
    "df_metrics_et_compare_random = pd.DataFrame(data, index=model_names)\n",
    "\n",
    "display(df_metrics_et_compare_random)"
   ]
  },
  {
   "cell_type": "code",
   "execution_count": null,
   "metadata": {
    "colab": {
     "base_uri": "https://localhost:8080/"
    },
    "id": "FA2Qo5M5SShn",
    "outputId": "d849e020-3a56-4754-9079-f310e6e417fc"
   },
   "outputs": [],
   "source": [
    "# Comparaison de la validation croisée sur le modèle non optmisé et optimisé\n",
    "from sklearn.model_selection import cross_val_score\n",
    "\n",
    "\n",
    "# Validation croisée sur le modèle de base\n",
    "scores = cross_val_score(et_regressor, X_train_concat, y_train, cv=5, scoring='r2')\n",
    "print(\"Scores de validation croisée (hyperparamètres par défaut): \", scores)\n",
    "print(\"Moyenne des scores (hyperparamètres par défaut): \", scores.mean())\n",
    "#print(\"Écart-type des scores R² (modèle de base): \", scores.std())\n",
    "\n",
    "print('-----')\n",
    "\n",
    "# Validation croisée sur le modèle optimisé\n",
    "cv_scores = cross_val_score(optimized_et_regressor, X_train_concat, y_train, cv=5, scoring='r2')\n",
    "\n",
    "print(\"Scores de validation croisée (meilleurs hyperparamètres RandomSearch):\", cv_scores)\n",
    "print(\"Moyenne des scores (meilleurs hyperparamètres RandomSearch):\", cv_scores.mean())"
   ]
  },
  {
   "cell_type": "markdown",
   "metadata": {
    "id": "xDWD0RUv_Ob7"
   },
   "source": [
    "## b. XGB Regressor"
   ]
  },
  {
   "cell_type": "code",
   "execution_count": null,
   "metadata": {
    "colab": {
     "base_uri": "https://localhost:8080/"
    },
    "id": "cdHz0mGX9EAt",
    "outputId": "08700492-6ecd-48a3-fed4-1d1ade92ce3c"
   },
   "outputs": [],
   "source": [
    "# Identification des hyperparamètres (paramètres actuels du modèle)\n",
    "\n",
    "estimator = xgb_regressor\n",
    "estimator.get_params()"
   ]
  },
  {
   "cell_type": "code",
   "execution_count": null,
   "metadata": {
    "colab": {
     "base_uri": "https://localhost:8080/",
     "height": 371
    },
    "id": "3vwMOvuMLo72",
    "outputId": "fe3d5680-978c-4fa8-e718-6e2022a5b166"
   },
   "outputs": [],
   "source": [
    "from xgboost import XGBRegressor\n",
    "from sklearn.model_selection import GridSearchCV\n",
    "\n",
    "# Définition de la grille des hyperparamètres à tester\n",
    "param_grid = {\n",
    "    'n_estimators' : [100, 200, 300, 400, 500],\n",
    "    'max_depth': [3, 5, 6, 7],\n",
    "    'learning_rate': [0.01, 0.1, 0.2],\n",
    "    'subsample' : [0.5, 0.7, 1],\n",
    "    'colsample_bytree' : [0.5, 0.7, 1],\n",
    "    'gamma' : [0, 0.1, 0.2]\n",
    "}\n",
    "\n",
    "# Création d'une instance de XGBRegressor\n",
    "xgb_regressor = XGBRegressor(objective='reg:squarederror', random_state=42)\n",
    "\n",
    "# Configuration de GridSearchCV\n",
    "grid_search = GridSearchCV(estimator=xgb_regressor, param_grid=param_grid, scoring='r2', cv=5)\n",
    "\n",
    "# Entraînement du modèle\n",
    "grid_search.fit(X_train_concat, y_train)\n",
    "\n",
    "# Affichage des meilleurs paramètres\n",
    "print(\"Meilleurs paramètres :\", grid_search.best_params_)\n",
    "print(\"Meilleur score de validation croisée (R²) :\", grid_search.best_score_)"
   ]
  },
  {
   "cell_type": "code",
   "execution_count": null,
   "metadata": {
    "colab": {
     "base_uri": "https://localhost:8080/"
    },
    "id": "oUF0RLz5MCLx",
    "outputId": "f0e07d7a-98f9-47fd-afc8-4671b36beb51"
   },
   "outputs": [],
   "source": [
    "# Création d'une instance de XGBRegressor\n",
    "xgb_regressor2 = xgb.XGBRegressor(n_estimators=500, gamma = 0, subsample = 1, max_depth= 3, learning_rate= 0.2, colsample_bytree = 0.5, objective='reg:squarederror', random_state=42)\n",
    "\n",
    "# Entraînement du modèle\n",
    "xgb_regressor2.fit(X_train_concat, y_train)\n",
    "\n",
    "print(xgb_regressor2.score(X_train_concat, y_train))\n",
    "print(xgb_regressor2.score(X_test_concat, y_test))"
   ]
  },
  {
   "cell_type": "code",
   "execution_count": null,
   "metadata": {
    "colab": {
     "base_uri": "https://localhost:8080/",
     "height": 81
    },
    "id": "wW4i0Tu4MTe0",
    "outputId": "19019840-b29c-4003-fa50-ac9b6b122be0"
   },
   "outputs": [],
   "source": [
    "# Prédictions\n",
    "y_pred_xgb_2_train = xgb_regressor2.predict(X_train_concat)\n",
    "y_pred_xgb_2_test = xgb_regressor2.predict(X_test_concat)\n",
    "\n",
    "# Calcul des scores\n",
    "train_rmse = np.sqrt(mean_squared_error(y_train, y_pred_xgb_2_train))\n",
    "test_rmse = np.sqrt(mean_squared_error(y_test, y_pred_xgb_2_test))\n",
    "train_r2 = r2_score(y_train, y_pred_xgb_2_train)\n",
    "test_r2 = r2_score(y_test, y_pred_xgb_2_test)\n",
    "\n",
    "# Calcul des métriques pour xgboost\n",
    "\n",
    "# Jeu d'entraînement\n",
    "mae_xgb2_train = mean_absolute_error(y_train, y_pred_xgb_2_train)\n",
    "mse_xgb2_train = mean_squared_error(y_train, y_pred_xgb_2_train, squared=True)\n",
    "rmse_xgb2_train = mean_squared_error(y_train, y_pred_xgb_2_train, squared=False)\n",
    "# jeu de test\n",
    "mae_xgb2_test = mean_absolute_error(y_test, y_pred_xgb_2_test)\n",
    "mse_xgb2_test = mean_squared_error(y_test, y_pred_xgb_2_test, squared=True)\n",
    "rmse_xgb2_test = mean_squared_error(y_test, y_pred_xgb_2_test, squared=False)\n",
    "\n",
    "# Création d'un DataFrame pour comparer les métriques des trois algorithmes\n",
    "data_xgb_test2 = {\n",
    "    'MAE train': [mae_xgb2_train],\n",
    "    'MAE test': [mae_xgb2_test],\n",
    "    'MSE train': [mse_xgb2_train],\n",
    "    'MSE test': [mse_xgb2_test],\n",
    "    'RMSE train': [rmse_xgb2_train],\n",
    "    'RMSE test': [rmse_xgb2_test]\n",
    "}\n",
    "# Création du DataFrame\n",
    "df_xgb_test2 = pd.DataFrame(data_xgb_test2, index=['XGBoost'])\n",
    "\n",
    "# Affichage du DataFrame\n",
    "df_xgb_test2.head()\n"
   ]
  },
  {
   "cell_type": "code",
   "execution_count": null,
   "metadata": {
    "colab": {
     "base_uri": "https://localhost:8080/"
    },
    "id": "OmbM3YQl9Tyv",
    "outputId": "173f8416-c1cd-45a6-e208-dbc890b9414b"
   },
   "outputs": [],
   "source": [
    "# Création d'une instance de XGBRegressor\n",
    "xgb_regressor2 = xgb.XGBRegressor(n_estimators=500, gamma = 0, subsample = 1, max_depth= 3, learning_rate= 0.2, colsample_bytree = 0.5, objective='reg:squarederror', random_state=42)\n",
    "\n",
    "# Validation croisée sur le modèle XGBRegressor optimisé\n",
    "scores2 = cross_val_score(xgb_regressor2, X_train_concat, y_train, cv=5, scoring='r2')\n",
    "\n",
    "# Affichage des résultats\n",
    "print(\"Scores de validation croisée du modèle de base (R²) :\", scores2)\n",
    "print(\"Moyenne des scores de validation croisée du modèle de base (R²) :\", np.mean(scores2))"
   ]
  },
  {
   "cell_type": "markdown",
   "metadata": {
    "id": "Y4rffic4_ssU"
   },
   "source": [
    "## c. Random Forest Regressor"
   ]
  },
  {
   "cell_type": "code",
   "execution_count": null,
   "metadata": {
    "colab": {
     "base_uri": "https://localhost:8080/"
    },
    "id": "aDQO8qkys8RB",
    "outputId": "8f2c4257-a9d2-479c-b32f-a051ce656df2"
   },
   "outputs": [],
   "source": [
    "# Affichage des hyperparamètres par défaut du modèle Random Forest Regressor\n",
    "estimator = rf_regressor\n",
    "estimator.get_params()"
   ]
  },
  {
   "cell_type": "code",
   "execution_count": null,
   "metadata": {
    "colab": {
     "base_uri": "https://localhost:8080/",
     "height": 371
    },
    "id": "qEHiAZzozmz7",
    "outputId": "1334908c-8537-4b42-c71e-1f5b5ecd93b0"
   },
   "outputs": [],
   "source": [
    "# Recherche des hyperparamètres optimaux avec RandomizedSearchCV\n",
    "from sklearn.model_selection import RandomizedSearchCV\n",
    "from sklearn.metrics import r2_score\n",
    "\n",
    "hyperparametres_rf = {\n",
    "    'criterion': ['squared_error'],\n",
    "    'n_estimators': [50,60,70,80,90,100,150],\n",
    "    'max_depth': [None, 40,50,60,80,100],\n",
    "    'min_samples_split': [2,3,4,5],\n",
    "    'min_samples_leaf': [1,2,3,4],\n",
    "    'max_features': ['sqrt',5,10,15,18],\n",
    "    'bootstrap': [False, True]\n",
    "}\n",
    "\n",
    "# Instanciation de RandomizedSearchCV\n",
    "grid_rf_regressor = RandomizedSearchCV(\n",
    "    estimator=rf_regressor,\n",
    "    param_distributions=hyperparametres_rf,\n",
    "    n_iter=100,\n",
    "    cv=5,\n",
    "    n_jobs=-1, \n",
    "    scoring='r2'\n",
    ")\n",
    "\n",
    "# Exécutiton de la recherche\n",
    "grid_rf_regressor.fit(X_train_concat, y_train)\n",
    "\n",
    "\n",
    "# Evalutation des meilleurs paramètres sur l'ensemble d'entrainement\n",
    "print(\"Meilleurs paramètres :\", grid_rf_regressor.best_params_)\n",
    "print(\"Meilleur score :\", grid_rf_regressor.best_score_)\n",
    "\n",
    "# Evaluation du meilleur modèle sur l'ensemble de test\n",
    "best_model = grid_rf_regressor.best_estimator_\n",
    "test_predictions = best_model.predict(X_test_concat)\n",
    "test_score = r2_score(y_test, test_predictions)\n",
    "print(\"Score R² sur l'ensemble de test :\", test_score)"
   ]
  },
  {
   "cell_type": "code",
   "execution_count": null,
   "metadata": {
    "colab": {
     "base_uri": "https://localhost:8080/"
    },
    "id": "QNyYb8mh7yll",
    "outputId": "6f20fff8-db54-49bc-a5d2-20a71ed6dd54"
   },
   "outputs": [],
   "source": [
    "# Rappel des meilleurs hyperparamètres de RandomizedSearchCV\n",
    "best_hyperparams = {\n",
    "    'n_estimators': 68,\n",
    "    'max_depth': 68,\n",
    "    'min_samples_split': 2,\n",
    "    'min_samples_leaf': 1,\n",
    "    'max_features': 14,\n",
    "    'criterion': 'squared_error',\n",
    "    'bootstrap': False\n",
    "}\n",
    "\n",
    "# Instanciation d'un nouveau modèle avec les meilleurs hyperparamètres\n",
    "optimized_rf_regressor = RandomForestRegressor(\n",
    "    n_estimators=best_hyperparams['n_estimators'],\n",
    "    min_samples_split=best_hyperparams['min_samples_split'],\n",
    "    min_samples_leaf=best_hyperparams['min_samples_leaf'],\n",
    "    max_features=best_hyperparams['max_features'],\n",
    "    max_depth=best_hyperparams['max_depth'],\n",
    "    criterion=best_hyperparams['criterion'],\n",
    "    bootstrap=best_hyperparams['bootstrap'],\n",
    "    random_state=42  # Assurer la reproductibilité\n",
    ")\n",
    "\n",
    "# Entraînement du modèle avec les meilleurs hyperparamètres\n",
    "optimized_rf_regressor.fit(X_train_concat, y_train)\n",
    "\n",
    "# Évaluation du modèle avec les hyperparamètres par défaut\n",
    "base_model = RandomForestRegressor(random_state=42)\n",
    "base_model.fit(X_train_concat, y_train)\n",
    "base_train_score = base_model.score(X_train_concat, y_train)\n",
    "base_test_score = base_model.score(X_test_concat, y_test)\n",
    "\n",
    "print(\"Score R² sur l'ensemble d'entraînement (hyperparamètres par défaut) :\", base_train_score)\n",
    "print(\"Score R² sur l'ensemble de test (hyperparamètres par défaut) :\", base_test_score)\n",
    "\n",
    "print('----')\n",
    "\n",
    "# Évaluation du modèle avec les meilleurs hyperparamètres\n",
    "optimized_rf_regressor.fit(X_train_concat, y_train)\n",
    "optimized_train_score = optimized_rf_regressor.score(X_train_concat, y_train)\n",
    "optimized_test_score = optimized_rf_regressor.score(X_test_concat, y_test)\n",
    "\n",
    "print(\"Score R² sur l'ensemble d'entraînement (meilleurs hyperparamètres RandomSearch) :\", optimized_train_score)\n",
    "print(\"Score R² sur l'ensemble de test (meilleurs hyperparamètres RandomSearch) :\", optimized_test_score)\n",
    "\n"
   ]
  },
  {
   "cell_type": "code",
   "execution_count": null,
   "metadata": {
    "colab": {
     "base_uri": "https://localhost:8080/",
     "height": 125
    },
    "id": "NQN31xIrApzU",
    "outputId": "4064d586-79cf-4e3d-b58e-865cd3dc5135"
   },
   "outputs": [],
   "source": [
    "# Calcul des autres métriques pour le modèle avec les hyperparamètres par défaut (MAE, MSE, RMSE)\n",
    "\n",
    "from sklearn.metrics import mean_absolute_error, mean_squared_error\n",
    "\n",
    "base_train_predictions = base_model.predict(X_train_concat)\n",
    "base_mae_train = mean_absolute_error(y_train, base_train_predictions)\n",
    "base_mse_train = mean_squared_error(y_train, base_train_predictions)\n",
    "base_rmse_train = mean_squared_error(y_train, base_train_predictions, squared=False)\n",
    "\n",
    "base_test_predictions = base_model.predict(X_test_concat)\n",
    "base_mae_test = mean_absolute_error(y_test, base_test_predictions)\n",
    "base_mse_test = mean_squared_error(y_test, base_test_predictions)\n",
    "base_rmse_test = mean_squared_error(y_test, base_test_predictions, squared=False)\n",
    "\n",
    "# Calcul des autres métriques pour le modèle avec les meilleurs hyperparamètres (MAE, MSE, RMSE)\n",
    "optimized_train_predictions = optimized_rf_regressor.predict(X_train_concat)\n",
    "optimized_mae_train = mean_absolute_error(y_train, optimized_train_predictions)\n",
    "optimized_mse_train = mean_squared_error(y_train, optimized_train_predictions)\n",
    "optimized_rmse_train = mean_squared_error(y_train, optimized_train_predictions, squared=False)\n",
    "\n",
    "optimized_test_predictions = optimized_rf_regressor.predict(X_test_concat)\n",
    "optimized_mae_test = mean_absolute_error(y_test, optimized_test_predictions)\n",
    "optimized_mse_test = mean_squared_error(y_test, optimized_test_predictions)\n",
    "optimized_rmse_test = mean_squared_error(y_test, optimized_test_predictions, squared=False)\n",
    "\n",
    "#Création d'un DataFrame pour comparer les métriques des deux modèles\n",
    "data = {\n",
    "    'MAE train': [base_mae_train, optimized_mae_train],\n",
    "    'MAE test': [base_mae_test, optimized_mae_test],\n",
    "    'MSE train': [base_mse_train, optimized_mse_train],\n",
    "    'MSE test': [base_mse_test, optimized_mse_test],\n",
    "    'RMSE train': [base_rmse_train, optimized_rmse_train],\n",
    "    'RMSE test': [base_rmse_test, optimized_rmse_test],\n",
    "    'R² train': [base_train_score, optimized_train_score],\n",
    "    'R² test': [base_test_score, optimized_test_score]\n",
    "}\n",
    "\n",
    "model_names = ['Hyperparamètres par défaut', 'Meilleurs hyperparamètres RandomSearch']\n",
    "\n",
    "df_metrics_rf_compare = pd.DataFrame(data, index=model_names)\n",
    "\n",
    "display(df_metrics_rf_compare)"
   ]
  },
  {
   "cell_type": "code",
   "execution_count": null,
   "metadata": {
    "colab": {
     "base_uri": "https://localhost:8080/"
    },
    "id": "8Uu1249xCU3x",
    "outputId": "4c71a1b3-cb4a-4f73-d9e7-8265d1e3543b"
   },
   "outputs": [],
   "source": [
    "# Comparaison de la validation croisée avec hyperparamètres par défaut et meilleurs hyperparamètres RandomSearch\n",
    "from sklearn.model_selection import cross_val_score\n",
    "\n",
    "# Validation croisée sur le modèle avec hyperparamètres par défaut\n",
    "scores = cross_val_score(rf_regressor, X_train_concat, y_train, cv=5, scoring='r2')\n",
    "print(\"Scores de validation croisée (hyperparamètres par défaut): \", scores)\n",
    "print(\"Moyenne des scores de validation croisée (hyperparamètres par défaut): \", scores.mean())\n",
    "#print(\"Écart-type des scores (modèle de base): \", scores.std())\n",
    "\n",
    "print('-----')\n",
    "\n",
    "# Validation croisée sur le modèle avec meilleurs hyperparamètres RandomSearch\n",
    "cv_scores = cross_val_score(optimized_rf_regressor, X_train_concat, y_train, cv=5, scoring='r2')\n",
    "print(\"Scores de validation croisée (meilleurs hyperparamètres avec RandomSearch):\", cv_scores)\n",
    "print(\"Moyenne des scores de validation croisée (meilleurs hyperparamètres avec RandomSearch):\", cv_scores.mean())\n",
    "#print(\"Écart-type des scores (modèle optimisé) :\", cv_scores.std())\n"
   ]
  },
  {
   "cell_type": "markdown",
   "metadata": {
    "id": "ZTrQqTPOBRTg"
   },
   "source": [
    "# *Les modèles les moins performants*"
   ]
  },
  {
   "cell_type": "markdown",
   "metadata": {
    "id": "qajgJSQCBiE7"
   },
   "source": [
    "## d. Linear Regression"
   ]
  },
  {
   "cell_type": "code",
   "execution_count": null,
   "metadata": {
    "colab": {
     "base_uri": "https://localhost:8080/"
    },
    "id": "lhm1YUfat8yt",
    "outputId": "b0bb9e1b-9df6-446e-c74d-8a55afe117ae"
   },
   "outputs": [],
   "source": [
    "# Régression linéaire avec GridSearch\n",
    "\n",
    "from sklearn.model_selection import GridSearchCV\n",
    "from sklearn.linear_model import Ridge\n",
    "from sklearn.datasets import make_regression\n",
    "\n",
    "# Génération des données de régression\n",
    "X, y = make_regression(n_samples=100, n_features=2, noise=0.1)\n",
    "\n",
    "# Définition du modèle\n",
    "model = Ridge(solver=\"svd\")\n",
    "\n",
    "# Définition de la grille de paramètres\n",
    "param_grid = {'alpha': [0.1, 1, 10, 100]}\n",
    "\n",
    "# Configuration du GridSearchCV\n",
    "grid_search = GridSearchCV(estimator=model, param_grid=param_grid, cv=5)\n",
    "\n",
    "# Ajustement du modèle\n",
    "grid_search.fit(X, y)\n",
    "\n",
    "# Affichage des meilleurs paramètres\n",
    "print(\"Meilleurs paramètres : \", grid_search.best_params_)\n",
    "\n",
    "# Affichage du score\n",
    "print(\"Meilleur score : \", grid_search.best_score_)"
   ]
  },
  {
   "cell_type": "code",
   "execution_count": null,
   "metadata": {
    "colab": {
     "base_uri": "https://localhost:8080/"
    },
    "id": "of-zHEiwusaD",
    "outputId": "cc475c4e-8775-410a-cee5-4402b837ee37"
   },
   "outputs": [],
   "source": [
    "# Entrainement Regression lineaire avec Alpha = 0,1\n",
    "model = Ridge(solver= \"svd\",alpha=0.1)\n",
    "model.fit(X_train, y_train)\n",
    "print('Score du modèle sur train:', model.score(X_train, y_train))\n",
    "print('Score du modèle sur test:', model.score(X_test, y_test))"
   ]
  },
  {
   "cell_type": "markdown",
   "metadata": {
    "id": "ZoDV_XvKBy8R"
   },
   "source": [
    "## e. Decision Tree Regressor"
   ]
  },
  {
   "cell_type": "code",
   "execution_count": null,
   "metadata": {
    "colab": {
     "base_uri": "https://localhost:8080/"
    },
    "id": "bsigNDllrtWo",
    "outputId": "e66e6a38-b094-45a4-aef0-7a32c1d5f7b3"
   },
   "outputs": [],
   "source": [
    "from sklearn.model_selection import GridSearchCV\n",
    "from sklearn.tree import DecisionTreeRegressor\n",
    "from sklearn.metrics import mean_squared_error, r2_score\n",
    "\n",
    "# Création d'une instance de l'arbre de régression\n",
    "tree = DecisionTreeRegressor(random_state=42)\n",
    "\n",
    "# Définition des valeurs possibles pour max_depth\n",
    "param_grid = {'max_depth': range(1, 100)}\n",
    "\n",
    "# Utilisation de GridSearchCV pour tester plusieurs profondeurs d'arbres avec un score de régression approprié\n",
    "grid_search = GridSearchCV(estimator=tree, param_grid=param_grid, cv=5, scoring='neg_mean_squared_error')\n",
    "\n",
    "# Entraînement de GridSearchCV sur les données d'entraînement\n",
    "grid_search.fit(X_train_concat, y_train)\n",
    "\n",
    "# Meilleur paramètre max_depth\n",
    "print(f\"Meilleure profondeur d'arbre: {grid_search.best_params_['max_depth']}\")"
   ]
  },
  {
   "cell_type": "code",
   "execution_count": null,
   "metadata": {
    "colab": {
     "base_uri": "https://localhost:8080/"
    },
    "id": "1x6POAnwwED9",
    "outputId": "57fef720-5a54-4e03-fd26-151ec6c02acb"
   },
   "outputs": [],
   "source": [
    "from sklearn.tree import plot_tree # tree diagram\n",
    "\n",
    "regressor2 = DecisionTreeRegressor(random_state=42, max_depth = 18)\n",
    "\n",
    "regressor2.fit(X_train_concat, y_train)\n",
    "\n",
    "print(regressor2.score(X_train_concat,y_train))\n",
    "print(regressor2.score(X_test_concat,y_test))"
   ]
  },
  {
   "cell_type": "code",
   "execution_count": null,
   "metadata": {
    "colab": {
     "base_uri": "https://localhost:8080/",
     "height": 81
    },
    "id": "0weZbaZyqfsm",
    "outputId": "e7d71296-6f6c-45b7-de7e-8327d5f6228e"
   },
   "outputs": [],
   "source": [
    "from sklearn.metrics import mean_squared_error\n",
    "from sklearn.metrics import mean_absolute_error\n",
    "\n",
    "# Prédictions\n",
    "y_pred_regressor2_train = regressor2.predict(X_train_concat)\n",
    "y_pred_regressor2_test = regressor2.predict(X_test_concat)\n",
    "\n",
    "\n",
    "# Calcul des métriques pour DecisionTreeRegressor\n",
    "\n",
    "# jeu d'entraînement\n",
    "mae_regressor2_train = mean_absolute_error(y_train, y_pred_regressor2_train)\n",
    "mse_regressor2_train = mean_squared_error(y_train, y_pred_regressor2_train, squared=True)\n",
    "rmse_regressor2_train = mean_squared_error(y_train, y_pred_regressor2_train, squared=False)\n",
    "\n",
    "# jeu de test\n",
    "mae_regressor2_test = mean_absolute_error(y_test, y_pred_regressor2_test)\n",
    "mse_regressor2_test = mean_squared_error(y_test, y_pred_regressor2_test, squared=True)\n",
    "rmse_regressor2_test = mean_squared_error(y_test, y_pred_regressor2_test, squared=False)\n",
    "\n",
    "# Création d'un DataFrame pour comparer les métriques des trois algorithmes\n",
    "data_regressor_test2 = {\n",
    "    'MAE train': [mae_regressor2_train],\n",
    "    'MAE test': [mae_regressor2_test],\n",
    "    'MSE train': [mse_regressor2_train],\n",
    "    'MSE test': [mse_regressor2_test],\n",
    "    'RMSE train': [rmse_regressor2_train],\n",
    "    'RMSE test': [rmse_regressor2_test]\n",
    "}\n",
    "\n",
    "df_regressor_test2 = pd.DataFrame(data_regressor_test2, index=['DecisionTreeRegressor'])\n",
    "\n",
    "# Affichage du DataFrame\n",
    "df_regressor_test2.head()"
   ]
  },
  {
   "cell_type": "markdown",
   "metadata": {
    "id": "GHNLmuJ6COuG"
   },
   "source": [
    "## f. KNN"
   ]
  },
  {
   "cell_type": "code",
   "execution_count": null,
   "metadata": {
    "colab": {
     "base_uri": "https://localhost:8080/"
    },
    "id": "t3xLaIOyIqeW",
    "outputId": "95bdd58d-5d8d-47c7-a896-abf5a03e5b33"
   },
   "outputs": [],
   "source": [
    "# Modification du modèle KNN avec de nouveaux hyperparamètres\n",
    "from sklearn.model_selection import GridSearchCV\n",
    "from sklearn.neighbors import KNeighborsRegressor\n",
    "\n",
    "# Définition de la grille de paramètres à tester\n",
    "param_grid = {'n_neighbors': [3, 5, 7], 'metric': ['manhattan'] }\n",
    "\n",
    "# Initialisation du modèle KNN\n",
    "knn = KNeighborsRegressor()\n",
    "\n",
    "# Initialisation du GridSearchCV\n",
    "grid_search = GridSearchCV(estimator=knn, param_grid=param_grid, cv=5)\n",
    "\n",
    "# Ajustement du modèle aux données d'entraînement\n",
    "grid_search.fit(X_train, y_train)\n",
    "\n",
    "# Affichage des meilleurs paramètres\n",
    "print(\"Meilleurs paramètres : \", grid_search.best_params_)\n",
    "\n",
    "# Affichage du score\n",
    "print(\"Meilleur score : \", grid_search.best_score_)\n"
   ]
  },
  {
   "cell_type": "code",
   "execution_count": null,
   "metadata": {
    "colab": {
     "base_uri": "https://localhost:8080/"
    },
    "id": "_RhVntD6BmIO",
    "outputId": "ca9cb104-e1b8-42d6-cc38-4e6909d12b60"
   },
   "outputs": [],
   "source": [
    "# Paramètres actuels du modèle\n",
    "estimator = knn\n",
    "estimator.get_params()"
   ]
  },
  {
   "cell_type": "markdown",
   "metadata": {
    "id": "BfIWsGm2MZtG"
   },
   "source": [
    "# V. Interprétation (Features Importances)"
   ]
  },
  {
   "cell_type": "code",
   "execution_count": null,
   "metadata": {
    "colab": {
     "base_uri": "https://localhost:8080/",
     "height": 54
    },
    "id": "aBjLoTJPjXs8",
    "outputId": "3af1f98c-e522-4a76-e084-12803adbd9d0"
   },
   "outputs": [],
   "source": [
    "''' Nous avons choisi les 3 modèles les plus performants pour faire notre Feature Importances (Extra Trees Regressor avec hyperparamètres par défaut, XGB Regressor avec hyperparamètres modifiés et Random Forest avec hyperparamètres modifiés)'''"
   ]
  },
  {
   "cell_type": "markdown",
   "metadata": {
    "id": "-DoTELHMEeum"
   },
   "source": [
    "## a. Extra Trees avec hyperparamètres par défaut"
   ]
  },
  {
   "cell_type": "code",
   "execution_count": null,
   "metadata": {
    "colab": {
     "base_uri": "https://localhost:8080/",
     "height": 911
    },
    "id": "h94JZoibBoOT",
    "outputId": "fa3ffb61-42df-4d7e-d841-e2d7250c55dc"
   },
   "outputs": [],
   "source": [
    "# Récupération de l'importance des caractéristiques\n",
    "importances = et_regressor.feature_importances_\n",
    "\n",
    "# Création d'un DataFrame pour afficher les importances des caractéristiques\n",
    "feature_importances = pd.DataFrame({\n",
    "    'Feature': X_train_concat.columns,\n",
    "    'Importance': et_regressor.feature_importances_\n",
    "})\n",
    "\n",
    "# Trier par importance décroissante\n",
    "feature_importances = feature_importances.sort_values(by='Importance', ascending=False)\n",
    "\n",
    "# Affichage des importances des caractéristiques\n",
    "print(feature_importances)\n",
    "\n",
    "# Création d'un DataFrame pour l'affichage\n",
    "features = X_train_concat.columns\n",
    "importance_df = pd.DataFrame({'Feature': features, 'Importance': importances})\n",
    "\n",
    "# Trier par ordre décroissant\n",
    "importance_df = importance_df.sort_values(by='Importance', ascending=False)\n",
    "\n",
    "# Visualisation des importances des caractéristiques\n",
    "plt.figure(figsize=(10, 6))\n",
    "sns.barplot(x='Importance', y='Feature', data=importance_df, color='blue')\n",
    "plt.title('Importances des Caractéristiques - Extra Trees Regressor')\n",
    "plt.xlabel('Importance')\n",
    "plt.ylabel('Caractéristiques')\n",
    "plt.show()"
   ]
  },
  {
   "cell_type": "markdown",
   "metadata": {
    "id": "pRXCZ3VMEkLP"
   },
   "source": [
    "## b. XGB Regressor avec hyperparamètres modifiés"
   ]
  },
  {
   "cell_type": "code",
   "execution_count": null,
   "metadata": {
    "colab": {
     "base_uri": "https://localhost:8080/",
     "height": 1000
    },
    "id": "aPgtyy54uMuU",
    "outputId": "018af613-227a-4305-d00c-265066ac22ec"
   },
   "outputs": [],
   "source": [
    "import matplotlib.pyplot as plt\n",
    "import xgboost as xgb\n",
    "import pandas as pd\n",
    "\n",
    "# Création d'un DataFrame pour afficher les importances des caractéristiques\n",
    "feature_importances = pd.DataFrame({\n",
    "    'Feature': X_train_concat.columns,\n",
    "    'Importance': xgb_regressor2.feature_importances_\n",
    "})\n",
    "\n",
    "# Trier par importance décroissante\n",
    "feature_importances = feature_importances.sort_values(by='Importance', ascending=False)\n",
    "\n",
    "# Affichage des importances des caractéristiques\n",
    "print(feature_importances)\n",
    "\n",
    "# Visualisation des importances des caractéristiques\n",
    "plt.figure(figsize=(10, 8))\n",
    "plt.barh(feature_importances['Feature'], feature_importances['Importance'], color='b')\n",
    "plt.title('Importances des Caractéristiques - XGBRegressor')\n",
    "plt.xlabel('Importance')\n",
    "plt.ylabel('Caractéristiques')\n",
    "plt.gca().invert_yaxis()  # Inverser l'ordre pour avoir les plus importantes en haut\n",
    "plt.show()"
   ]
  },
  {
   "cell_type": "markdown",
   "metadata": {
    "id": "REmbiJA_zZi3"
   },
   "source": [
    "## c. Random Forest avec hyperparamètres modifiés"
   ]
  },
  {
   "cell_type": "code",
   "execution_count": null,
   "metadata": {
    "colab": {
     "base_uri": "https://localhost:8080/",
     "height": 911
    },
    "id": "WSizQy-KzYrD",
    "outputId": "9f56e4a9-b4aa-4294-a1cb-eb4097e67fbf"
   },
   "outputs": [],
   "source": [
    "# Récupération de l'importance des caractéristiques\n",
    "importances = optimized_rf_regressor.feature_importances_\n",
    "\n",
    "# Création d'un DataFrame pour afficher les importances des caractéristiques\n",
    "feature_importances = pd.DataFrame({\n",
    "    'Feature': X_train_concat.columns,\n",
    "    'Importance': optimized_rf_regressor.feature_importances_\n",
    "})\n",
    "# Trier par importance décroissante\n",
    "feature_importances = feature_importances.sort_values(by='Importance', ascending=False)\n",
    "\n",
    "# Affichage des importances des caractéristiques\n",
    "print(feature_importances)\n",
    "\n",
    "# Création d'un DataFrame pour l'affichage\n",
    "features = X_train_concat.columns\n",
    "importance_df = pd.DataFrame({'Feature': features, 'Importance': importances})\n",
    "\n",
    "# Trier par ordre décroissant\n",
    "importance_df = importance_df.sort_values(by='Importance', ascending=False)\n",
    "\n",
    "# Visualisation des importances des caractéristiques\n",
    "plt.figure(figsize=(10, 6))\n",
    "sns.barplot(x='Importance', y='Feature', data=importance_df, color='blue')\n",
    "plt.title('Importances des Caractéristiques - Random Forest Regressor')\n",
    "plt.xlabel('Importance')\n",
    "plt.ylabel('Caractéristiques')\n",
    "plt.show()"
   ]
  },
  {
   "cell_type": "markdown",
   "metadata": {
    "id": "RKVTMDaHDxCm"
   },
   "source": [
    "# VI. Démonstration"
   ]
  },
  {
   "cell_type": "code",
   "execution_count": null,
   "metadata": {
    "id": "eMVmA39-IoFa"
   },
   "outputs": [],
   "source": [
    "''' Afin d’évaluer concrètement la capacité de prédiction et de généralisation du modèle retenu, et de valider l’exactitude du classement du Features Importance, nous avons réalisé une démonstration finale avec les données de notre dataset puis avec de nouvelles données. '''"
   ]
  },
  {
   "cell_type": "code",
   "execution_count": null,
   "metadata": {
    "id": "yOmoGLMg_l3w"
   },
   "outputs": [],
   "source": [
    "# Calcul de la moyenne et de l'écart-type de X_train\n",
    "mean_puissance = X_train['Puissance_fiscale'].mean()\n",
    "std_puissance = X_train['Puissance_fiscale'].std()\n",
    "mean_masse = X_train['Masse_OM_Max'].mean()\n",
    "std_masse = X_train['Masse_OM_Max'].std()"
   ]
  },
  {
   "cell_type": "code",
   "execution_count": null,
   "metadata": {
    "colab": {
     "base_uri": "https://localhost:8080/"
    },
    "id": "EHfggijr379k",
    "outputId": "9e676cbb-a419-4d09-9483-33526aead3a8"
   },
   "outputs": [],
   "source": [
    "# Données pour les deux véhicules avec leurs caractéristiques\n",
    "vehicule_A = {\n",
    "    'Puissance_fiscale': 10,\n",
    "    'Masse_OM_Max': 1915,\n",
    "    'Energie_ESS+ELEC HNR': 0,\n",
    "    'Energie_ESS+G.P.L.': 0,\n",
    "    'Energie_ESSENCE': 0,\n",
    "    'Energie_GAZ+ELEC HNR': 1,\n",
    "    'Energie_GAZOLE': 0,\n",
    "    'Energie_SUPERETHANOL': 0,\n",
    "    'Carrosserie_BREAK': 0,\n",
    "    'Carrosserie_CABRIOLET': 0,\n",
    "    'Carrosserie_COMBISPACE': 0,\n",
    "    'Carrosserie_COUPE': 0,\n",
    "    'Carrosserie_MINIBUS': 0,\n",
    "    'Carrosserie_MONOSPACE': 0,\n",
    "    'Carrosserie_MONOSPACE COMPACT': 0,\n",
    "    'Carrosserie_TS TERRAINS/CHEMINS': 1,\n",
    "    'Type_de_boite_MECANIQUE': 0,\n",
    "    'Type_de_boite_VARIATION CONTINUE': 0\n",
    "}\n",
    "vehicule_B = {\n",
    "    'Puissance_fiscale': 8,\n",
    "    'Masse_OM_Max': 1585,\n",
    "    'Energie_ESS+ELEC HNR': 0,\n",
    "    'Energie_ESS+G.P.L.': 0,\n",
    "    'Energie_ESSENCE': 0,\n",
    "    'Energie_GAZ+ELEC HNR': 0,\n",
    "    'Energie_GAZOLE': 1,\n",
    "    'Energie_SUPERETHANOL': 0,\n",
    "    'Carrosserie_BREAK': 0,\n",
    "    'Carrosserie_CABRIOLET': 0,\n",
    "    'Carrosserie_COMBISPACE': 0,\n",
    "    'Carrosserie_COUPE': 0,\n",
    "    'Carrosserie_MINIBUS': 0,\n",
    "    'Carrosserie_MONOSPACE': 0,\n",
    "    'Carrosserie_MONOSPACE COMPACT': 0,\n",
    "    'Carrosserie_TS TERRAINS/CHEMINS': 1,\n",
    "    'Type_de_boite_MECANIQUE': 1,\n",
    "    'Type_de_boite_VARIATION CONTINUE': 0\n",
    "}\n",
    "\n",
    "# Création du DataFrame\n",
    "vehicules_df = pd.DataFrame([vehicule_A, vehicule_B])\n",
    "\n",
    "# Calcul de la moyenne et de l'écart type pour les colonnes pertinentes\n",
    "moyenne_puissance = X_train_concat['Puissance_fiscale'].mean()\n",
    "ecart_type_puissance = X_train_concat['Puissance_fiscale'].std()\n",
    "vehicules_df['Puissance_fiscale'] = (vehicules_df['Puissance_fiscale'] - mean_puissance) / std_puissance\n",
    "vehicules_df['Masse_OM_Max'] = (vehicules_df['Masse_OM_Max'] - mean_masse) / std_masse\n",
    "\n",
    "# Prédictions\n",
    "predictions = optimized_et_regressor.predict(vehicules_df)\n",
    "print(f\"Prédiction pour le véhicule A : {predictions[0]}\")\n",
    "print(f\"Prédiction pour le véhicule B : {predictions[1]}\")"
   ]
  }
 ],
 "metadata": {
  "colab": {
   "provenance": [],
   "toc_visible": true
  },
  "kernelspec": {
   "display_name": "Python 3 (ipykernel)",
   "language": "python",
   "name": "python3"
  },
  "language_info": {
   "codemirror_mode": {
    "name": "ipython",
    "version": 3
   },
   "file_extension": ".py",
   "mimetype": "text/x-python",
   "name": "python",
   "nbconvert_exporter": "python",
   "pygments_lexer": "ipython3",
   "version": "3.12.3"
  }
 },
 "nbformat": 4,
 "nbformat_minor": 4
}
